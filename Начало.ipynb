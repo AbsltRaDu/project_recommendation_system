{
 "cells": [
  {
   "cell_type": "markdown",
   "metadata": {},
   "source": [
    "## 1. Загрузка и очистка датасетов"
   ]
  },
  {
   "cell_type": "code",
   "execution_count": 1,
   "metadata": {},
   "outputs": [],
   "source": [
    "import pandas as pd\n",
    "import numpy as np\n",
    "import matplotlib.pyplot as plt"
   ]
  },
  {
   "cell_type": "code",
   "execution_count": 22,
   "metadata": {},
   "outputs": [],
   "source": [
    "df_exp_ratings = pd.read_csv('dataverse_files/explicit_ratings_en.csv') \n",
    "df_imp_ratings = pd.read_csv('dataverse_files/implicit_ratings_en.csv')\n",
    "df_users = pd.read_csv('dataverse_files/users_en.csv')\n",
    "df_items = pd.read_csv('dataverse_files/items_en.csv')\n"
   ]
  },
  {
   "cell_type": "markdown",
   "metadata": {},
   "source": [
    "### 1.1 Явные оценки"
   ]
  },
  {
   "cell_type": "code",
   "execution_count": 27,
   "metadata": {},
   "outputs": [
    {
     "data": {
      "text/html": [
       "<div>\n",
       "<style scoped>\n",
       "    .dataframe tbody tr th:only-of-type {\n",
       "        vertical-align: middle;\n",
       "    }\n",
       "\n",
       "    .dataframe tbody tr th {\n",
       "        vertical-align: top;\n",
       "    }\n",
       "\n",
       "    .dataframe thead th {\n",
       "        text-align: right;\n",
       "    }\n",
       "</style>\n",
       "<table border=\"1\" class=\"dataframe\">\n",
       "  <thead>\n",
       "    <tr style=\"text-align: right;\">\n",
       "      <th></th>\n",
       "      <th>user_id</th>\n",
       "      <th>item_id</th>\n",
       "      <th>watch_percentage</th>\n",
       "      <th>created_at</th>\n",
       "      <th>rating</th>\n",
       "    </tr>\n",
       "  </thead>\n",
       "  <tbody>\n",
       "    <tr>\n",
       "      <th>0</th>\n",
       "      <td>224557</td>\n",
       "      <td>510</td>\n",
       "      <td>100</td>\n",
       "      <td>2018-09-28 16:18:29</td>\n",
       "      <td>10</td>\n",
       "    </tr>\n",
       "    <tr>\n",
       "      <th>1</th>\n",
       "      <td>224557</td>\n",
       "      <td>615</td>\n",
       "      <td>100</td>\n",
       "      <td>2018-09-28 16:22:22</td>\n",
       "      <td>10</td>\n",
       "    </tr>\n",
       "    <tr>\n",
       "      <th>2</th>\n",
       "      <td>224557</td>\n",
       "      <td>7680</td>\n",
       "      <td>100</td>\n",
       "      <td>2018-09-28 16:23:34</td>\n",
       "      <td>10</td>\n",
       "    </tr>\n",
       "    <tr>\n",
       "      <th>3</th>\n",
       "      <td>224293</td>\n",
       "      <td>510</td>\n",
       "      <td>100</td>\n",
       "      <td>2018-09-28 17:20:30</td>\n",
       "      <td>10</td>\n",
       "    </tr>\n",
       "    <tr>\n",
       "      <th>4</th>\n",
       "      <td>224293</td>\n",
       "      <td>515</td>\n",
       "      <td>100</td>\n",
       "      <td>2018-09-28 17:40:02</td>\n",
       "      <td>10</td>\n",
       "    </tr>\n",
       "  </tbody>\n",
       "</table>\n",
       "</div>"
      ],
      "text/plain": [
       "   user_id  item_id  watch_percentage           created_at  rating\n",
       "0   224557      510               100  2018-09-28 16:18:29      10\n",
       "1   224557      615               100  2018-09-28 16:22:22      10\n",
       "2   224557     7680               100  2018-09-28 16:23:34      10\n",
       "3   224293      510               100  2018-09-28 17:20:30      10\n",
       "4   224293      515               100  2018-09-28 17:40:02      10"
      ]
     },
     "execution_count": 27,
     "metadata": {},
     "output_type": "execute_result"
    }
   ],
   "source": [
    "df_exp_ratings.head()"
   ]
  },
  {
   "cell_type": "markdown",
   "metadata": {},
   "source": [
    "`item_id` - Идентификтор курса <br/>\n",
    "`user_id` - Идентификатор пользователя <br/>\n",
    "`watch_percentage` - Процент прохождения курса пользователем <br/>\n",
    "`created_at` - дата и время (видимо, занесения данных в базу, т.е. оценки курса)<br/>\n",
    "`rating` - Оценка курса пользователем по шкале от 1 до 10"
   ]
  },
  {
   "cell_type": "code",
   "execution_count": 28,
   "metadata": {},
   "outputs": [
    {
     "name": "stdout",
     "output_type": "stream",
     "text": [
      "<class 'pandas.core.frame.DataFrame'>\n",
      "RangeIndex: 3659 entries, 0 to 3658\n",
      "Data columns (total 5 columns):\n",
      " #   Column            Non-Null Count  Dtype \n",
      "---  ------            --------------  ----- \n",
      " 0   user_id           3659 non-null   int64 \n",
      " 1   item_id           3659 non-null   int64 \n",
      " 2   watch_percentage  3659 non-null   int64 \n",
      " 3   created_at        3659 non-null   object\n",
      " 4   rating            3659 non-null   int64 \n",
      "dtypes: int64(4), object(1)\n",
      "memory usage: 143.1+ KB\n"
     ]
    }
   ],
   "source": [
    "df_exp_ratings.info()"
   ]
  },
  {
   "cell_type": "code",
   "execution_count": 34,
   "metadata": {},
   "outputs": [
    {
     "name": "stdout",
     "output_type": "stream",
     "text": [
      "Кол-во уникальных пользователей: 822\n",
      "Кол-во уникальных курсов: 776\n"
     ]
    }
   ],
   "source": [
    "print(f'Кол-во уникальных пользователей: {df_exp_ratings.user_id.nunique()}')\n",
    "print(f'Кол-во уникальных курсов: {df_exp_ratings.item_id.nunique()}')\n"
   ]
  },
  {
   "cell_type": "markdown",
   "metadata": {},
   "source": [
    "### 1.2 Неявные оценки"
   ]
  },
  {
   "cell_type": "code",
   "execution_count": 24,
   "metadata": {},
   "outputs": [
    {
     "data": {
      "text/html": [
       "<div>\n",
       "<style scoped>\n",
       "    .dataframe tbody tr th:only-of-type {\n",
       "        vertical-align: middle;\n",
       "    }\n",
       "\n",
       "    .dataframe tbody tr th {\n",
       "        vertical-align: top;\n",
       "    }\n",
       "\n",
       "    .dataframe thead th {\n",
       "        text-align: right;\n",
       "    }\n",
       "</style>\n",
       "<table border=\"1\" class=\"dataframe\">\n",
       "  <thead>\n",
       "    <tr style=\"text-align: right;\">\n",
       "      <th></th>\n",
       "      <th>item_id</th>\n",
       "      <th>user_id</th>\n",
       "      <th>created_at</th>\n",
       "    </tr>\n",
       "  </thead>\n",
       "  <tbody>\n",
       "    <tr>\n",
       "      <th>0</th>\n",
       "      <td>510</td>\n",
       "      <td>4287</td>\n",
       "      <td>2016-11-02 20:59:23</td>\n",
       "    </tr>\n",
       "    <tr>\n",
       "      <th>1</th>\n",
       "      <td>510</td>\n",
       "      <td>4287</td>\n",
       "      <td>2017-06-20 00:33:46</td>\n",
       "    </tr>\n",
       "    <tr>\n",
       "      <th>2</th>\n",
       "      <td>511</td>\n",
       "      <td>4287</td>\n",
       "      <td>2017-06-20 00:44:42</td>\n",
       "    </tr>\n",
       "    <tr>\n",
       "      <th>3</th>\n",
       "      <td>512</td>\n",
       "      <td>4287</td>\n",
       "      <td>2017-06-20 00:52:11</td>\n",
       "    </tr>\n",
       "    <tr>\n",
       "      <th>4</th>\n",
       "      <td>513</td>\n",
       "      <td>4287</td>\n",
       "      <td>2017-06-20 00:54:41</td>\n",
       "    </tr>\n",
       "  </tbody>\n",
       "</table>\n",
       "</div>"
      ],
      "text/plain": [
       "   item_id  user_id           created_at\n",
       "0      510     4287  2016-11-02 20:59:23\n",
       "1      510     4287  2017-06-20 00:33:46\n",
       "2      511     4287  2017-06-20 00:44:42\n",
       "3      512     4287  2017-06-20 00:52:11\n",
       "4      513     4287  2017-06-20 00:54:41"
      ]
     },
     "execution_count": 24,
     "metadata": {},
     "output_type": "execute_result"
    }
   ],
   "source": [
    "df_imp_ratings.head()"
   ]
  },
  {
   "cell_type": "markdown",
   "metadata": {},
   "source": [
    "`item_id` - Идентификтор курса <br/>\n",
    "`user_id` - Идентификатор пользователя <br/>\n",
    "`created_at` - Время просмотра пользователем страницы курса"
   ]
  },
  {
   "cell_type": "code",
   "execution_count": 29,
   "metadata": {},
   "outputs": [
    {
     "name": "stdout",
     "output_type": "stream",
     "text": [
      "<class 'pandas.core.frame.DataFrame'>\n",
      "RangeIndex: 21908 entries, 0 to 21907\n",
      "Data columns (total 3 columns):\n",
      " #   Column      Non-Null Count  Dtype \n",
      "---  ------      --------------  ----- \n",
      " 0   item_id     21908 non-null  int64 \n",
      " 1   user_id     21908 non-null  int64 \n",
      " 2   created_at  21908 non-null  object\n",
      "dtypes: int64(2), object(1)\n",
      "memory usage: 513.6+ KB\n"
     ]
    }
   ],
   "source": [
    "df_imp_ratings.info()"
   ]
  },
  {
   "cell_type": "code",
   "execution_count": 36,
   "metadata": {},
   "outputs": [
    {
     "name": "stdout",
     "output_type": "stream",
     "text": [
      "Кол-во уникальных пользователей: 3007\n",
      "Кол-во уникальных курсов: 957\n"
     ]
    }
   ],
   "source": [
    "print(f'Кол-во уникальных пользователей: {df_imp_ratings.user_id.nunique()}')\n",
    "print(f'Кол-во уникальных курсов: {df_imp_ratings.item_id.nunique()}')"
   ]
  },
  {
   "cell_type": "markdown",
   "metadata": {},
   "source": [
    "### 1.3 Курсы"
   ]
  },
  {
   "cell_type": "code",
   "execution_count": null,
   "metadata": {},
   "outputs": [
    {
     "data": {
      "text/html": [
       "<div>\n",
       "<style scoped>\n",
       "    .dataframe tbody tr th:only-of-type {\n",
       "        vertical-align: middle;\n",
       "    }\n",
       "\n",
       "    .dataframe tbody tr th {\n",
       "        vertical-align: top;\n",
       "    }\n",
       "\n",
       "    .dataframe thead th {\n",
       "        text-align: right;\n",
       "    }\n",
       "</style>\n",
       "<table border=\"1\" class=\"dataframe\">\n",
       "  <thead>\n",
       "    <tr style=\"text-align: right;\">\n",
       "      <th></th>\n",
       "      <th>item_id</th>\n",
       "      <th>language</th>\n",
       "      <th>name</th>\n",
       "      <th>nb_views</th>\n",
       "      <th>description</th>\n",
       "      <th>created_at</th>\n",
       "      <th>Difficulty</th>\n",
       "      <th>Job</th>\n",
       "      <th>Software</th>\n",
       "      <th>Theme</th>\n",
       "      <th>duration</th>\n",
       "      <th>type</th>\n",
       "    </tr>\n",
       "  </thead>\n",
       "  <tbody>\n",
       "    <tr>\n",
       "      <th>0</th>\n",
       "      <td>510</td>\n",
       "      <td>en</td>\n",
       "      <td>What is OneDrive for Business?</td>\n",
       "      <td>1114.0</td>\n",
       "      <td>OneDrive for Businessis an online libraryto st...</td>\n",
       "      <td>2016</td>\n",
       "      <td>Beginner</td>\n",
       "      <td>[]</td>\n",
       "      <td>['OneDrive']</td>\n",
       "      <td>['Discover']</td>\n",
       "      <td>42.0</td>\n",
       "      <td>tutorial</td>\n",
       "    </tr>\n",
       "    <tr>\n",
       "      <th>1</th>\n",
       "      <td>511</td>\n",
       "      <td>en</td>\n",
       "      <td>Add, restore, delete documents on OneDrive</td>\n",
       "      <td>547.0</td>\n",
       "      <td>To create a new document in OneDriveclick New,...</td>\n",
       "      <td>2016</td>\n",
       "      <td>Beginner</td>\n",
       "      <td>[]</td>\n",
       "      <td>['OneDrive']</td>\n",
       "      <td>['Share', 'Produce', 'Organize']</td>\n",
       "      <td>122.0</td>\n",
       "      <td>tutorial</td>\n",
       "    </tr>\n",
       "    <tr>\n",
       "      <th>2</th>\n",
       "      <td>512</td>\n",
       "      <td>en</td>\n",
       "      <td>Share documents</td>\n",
       "      <td>607.0</td>\n",
       "      <td>By default, all content is private, so you don...</td>\n",
       "      <td>2016</td>\n",
       "      <td>Beginner</td>\n",
       "      <td>[]</td>\n",
       "      <td>['OneDrive']</td>\n",
       "      <td>['Share', 'Collaborate']</td>\n",
       "      <td>176.0</td>\n",
       "      <td>tutorial</td>\n",
       "    </tr>\n",
       "    <tr>\n",
       "      <th>3</th>\n",
       "      <td>513</td>\n",
       "      <td>en</td>\n",
       "      <td>Recycle bin</td>\n",
       "      <td>278.0</td>\n",
       "      <td>When you delete a file or afolder, OneDrive gi...</td>\n",
       "      <td>2016</td>\n",
       "      <td>Beginner</td>\n",
       "      <td>['Accounting', 'Financial', 'Human resources',...</td>\n",
       "      <td>['OneDrive']</td>\n",
       "      <td>['Produce', 'Organize']</td>\n",
       "      <td>46.0</td>\n",
       "      <td>tutorial</td>\n",
       "    </tr>\n",
       "    <tr>\n",
       "      <th>4</th>\n",
       "      <td>514</td>\n",
       "      <td>en</td>\n",
       "      <td>Sync OneDrive for Business to your computer (W...</td>\n",
       "      <td>312.0</td>\n",
       "      <td>The one drive synchronization application is a...</td>\n",
       "      <td>2016</td>\n",
       "      <td>Beginner</td>\n",
       "      <td>[]</td>\n",
       "      <td>['OneDrive']</td>\n",
       "      <td>['Produce', 'Organize']</td>\n",
       "      <td>163.0</td>\n",
       "      <td>tutorial</td>\n",
       "    </tr>\n",
       "  </tbody>\n",
       "</table>\n",
       "</div>"
      ],
      "text/plain": [
       "   item_id language                                               name  \\\n",
       "0      510       en                     What is OneDrive for Business?   \n",
       "1      511       en         Add, restore, delete documents on OneDrive   \n",
       "2      512       en                                    Share documents   \n",
       "3      513       en                                        Recycle bin   \n",
       "4      514       en  Sync OneDrive for Business to your computer (W...   \n",
       "\n",
       "   nb_views                                        description  created_at  \\\n",
       "0    1114.0  OneDrive for Businessis an online libraryto st...        2016   \n",
       "1     547.0  To create a new document in OneDriveclick New,...        2016   \n",
       "2     607.0  By default, all content is private, so you don...        2016   \n",
       "3     278.0  When you delete a file or afolder, OneDrive gi...        2016   \n",
       "4     312.0  The one drive synchronization application is a...        2016   \n",
       "\n",
       "  Difficulty                                                Job      Software  \\\n",
       "0   Beginner                                                 []  ['OneDrive']   \n",
       "1   Beginner                                                 []  ['OneDrive']   \n",
       "2   Beginner                                                 []  ['OneDrive']   \n",
       "3   Beginner  ['Accounting', 'Financial', 'Human resources',...  ['OneDrive']   \n",
       "4   Beginner                                                 []  ['OneDrive']   \n",
       "\n",
       "                              Theme  duration      type  \n",
       "0                      ['Discover']      42.0  tutorial  \n",
       "1  ['Share', 'Produce', 'Organize']     122.0  tutorial  \n",
       "2          ['Share', 'Collaborate']     176.0  tutorial  \n",
       "3           ['Produce', 'Organize']      46.0  tutorial  \n",
       "4           ['Produce', 'Organize']     163.0  tutorial  "
      ]
     },
     "execution_count": 25,
     "metadata": {},
     "output_type": "execute_result"
    }
   ],
   "source": [
    "df_items.head()"
   ]
  },
  {
   "cell_type": "code",
   "execution_count": 30,
   "metadata": {},
   "outputs": [
    {
     "name": "stdout",
     "output_type": "stream",
     "text": [
      "<class 'pandas.core.frame.DataFrame'>\n",
      "RangeIndex: 1167 entries, 0 to 1166\n",
      "Data columns (total 12 columns):\n",
      " #   Column       Non-Null Count  Dtype  \n",
      "---  ------       --------------  -----  \n",
      " 0   item_id      1167 non-null   int64  \n",
      " 1   language     1167 non-null   object \n",
      " 2   name         1167 non-null   object \n",
      " 3   nb_views     1119 non-null   float64\n",
      " 4   description  1009 non-null   object \n",
      " 5   created_at   1167 non-null   int64  \n",
      " 6   Difficulty   475 non-null    object \n",
      " 7   Job          1167 non-null   object \n",
      " 8   Software     1167 non-null   object \n",
      " 9   Theme        1167 non-null   object \n",
      " 10  duration     1167 non-null   float64\n",
      " 11  type         1167 non-null   object \n",
      "dtypes: float64(2), int64(2), object(8)\n",
      "memory usage: 109.5+ KB\n"
     ]
    }
   ],
   "source": [
    "df_items.info()"
   ]
  },
  {
   "cell_type": "markdown",
   "metadata": {},
   "source": [
    "`item_id` - Идентификтор курса <br/>\n",
    "`language` - Язык курса (в данном случае - английский) <br/>\n",
    "`name` - Название <br/>\n",
    "`nb_views` - Количество просмотров курса <br/>\n",
    "`description` - Описание содержания <br/>\n",
    "`created_at` - Год создания курса <br/>\n",
    "`Difficulty` - Уровень сложности (`Beginner`, `Intermediate`, `Advanced`, `nan`) <br/>\n",
    "`Job` - Список сфер деятельности, для которых курс сделан <br/>\n",
    "`Software` - ПО (видимо, которое нужно для прохождения курса) <br/>\n",
    "`Theme` - тема курса (не связана с проф. навыками) <br/>\n",
    "`Duration` - Продолжительность курса в секундах (курс - это почти всегда одно короткое видео, как оказалось) <br/>\n",
    "`Type` - Тип курса (`Tutorial`, `webcast`, `use_case`)"
   ]
  },
  {
   "cell_type": "markdown",
   "metadata": {},
   "source": [
    "### 1.4 Пользователи"
   ]
  },
  {
   "cell_type": "code",
   "execution_count": 26,
   "metadata": {},
   "outputs": [
    {
     "data": {
      "text/html": [
       "<div>\n",
       "<style scoped>\n",
       "    .dataframe tbody tr th:only-of-type {\n",
       "        vertical-align: middle;\n",
       "    }\n",
       "\n",
       "    .dataframe tbody tr th {\n",
       "        vertical-align: top;\n",
       "    }\n",
       "\n",
       "    .dataframe thead th {\n",
       "        text-align: right;\n",
       "    }\n",
       "</style>\n",
       "<table border=\"1\" class=\"dataframe\">\n",
       "  <thead>\n",
       "    <tr style=\"text-align: right;\">\n",
       "      <th></th>\n",
       "      <th>user_id</th>\n",
       "      <th>job</th>\n",
       "    </tr>\n",
       "  </thead>\n",
       "  <tbody>\n",
       "    <tr>\n",
       "      <th>0</th>\n",
       "      <td>384</td>\n",
       "      <td>NaN</td>\n",
       "    </tr>\n",
       "    <tr>\n",
       "      <th>1</th>\n",
       "      <td>421</td>\n",
       "      <td>NaN</td>\n",
       "    </tr>\n",
       "    <tr>\n",
       "      <th>2</th>\n",
       "      <td>530</td>\n",
       "      <td>NaN</td>\n",
       "    </tr>\n",
       "    <tr>\n",
       "      <th>3</th>\n",
       "      <td>672</td>\n",
       "      <td>NaN</td>\n",
       "    </tr>\n",
       "    <tr>\n",
       "      <th>4</th>\n",
       "      <td>752</td>\n",
       "      <td>NaN</td>\n",
       "    </tr>\n",
       "    <tr>\n",
       "      <th>...</th>\n",
       "      <td>...</td>\n",
       "      <td>...</td>\n",
       "    </tr>\n",
       "    <tr>\n",
       "      <th>9897</th>\n",
       "      <td>610347</td>\n",
       "      <td>accounting</td>\n",
       "    </tr>\n",
       "    <tr>\n",
       "      <th>9898</th>\n",
       "      <td>610368</td>\n",
       "      <td>product &amp; service marketing</td>\n",
       "    </tr>\n",
       "    <tr>\n",
       "      <th>9899</th>\n",
       "      <td>610459</td>\n",
       "      <td>NaN</td>\n",
       "    </tr>\n",
       "    <tr>\n",
       "      <th>9900</th>\n",
       "      <td>610460</td>\n",
       "      <td>NaN</td>\n",
       "    </tr>\n",
       "    <tr>\n",
       "      <th>9901</th>\n",
       "      <td>610640</td>\n",
       "      <td>accounting</td>\n",
       "    </tr>\n",
       "  </tbody>\n",
       "</table>\n",
       "<p>9902 rows × 2 columns</p>\n",
       "</div>"
      ],
      "text/plain": [
       "      user_id                          job\n",
       "0         384                          NaN\n",
       "1         421                          NaN\n",
       "2         530                          NaN\n",
       "3         672                          NaN\n",
       "4         752                          NaN\n",
       "...       ...                          ...\n",
       "9897   610347                   accounting\n",
       "9898   610368  product & service marketing\n",
       "9899   610459                          NaN\n",
       "9900   610460                          NaN\n",
       "9901   610640                   accounting\n",
       "\n",
       "[9902 rows x 2 columns]"
      ]
     },
     "execution_count": 26,
     "metadata": {},
     "output_type": "execute_result"
    }
   ],
   "source": [
    "df_users"
   ]
  },
  {
   "cell_type": "markdown",
   "metadata": {},
   "source": [
    "`user_id` - Идентификатор пользователя <br/>\n",
    "`job` - Работа, указанная пользователем"
   ]
  },
  {
   "cell_type": "code",
   "execution_count": 31,
   "metadata": {},
   "outputs": [
    {
     "name": "stdout",
     "output_type": "stream",
     "text": [
      "<class 'pandas.core.frame.DataFrame'>\n",
      "RangeIndex: 9902 entries, 0 to 9901\n",
      "Data columns (total 2 columns):\n",
      " #   Column   Non-Null Count  Dtype \n",
      "---  ------   --------------  ----- \n",
      " 0   user_id  9902 non-null   int64 \n",
      " 1   job      1409 non-null   object\n",
      "dtypes: int64(1), object(1)\n",
      "memory usage: 154.8+ KB\n"
     ]
    }
   ],
   "source": [
    "df_users.info()"
   ]
  }
 ],
 "metadata": {
  "kernelspec": {
   "display_name": "Python 3",
   "language": "python",
   "name": "python3"
  },
  "language_info": {
   "codemirror_mode": {
    "name": "ipython",
    "version": 3
   },
   "file_extension": ".py",
   "mimetype": "text/x-python",
   "name": "python",
   "nbconvert_exporter": "python",
   "pygments_lexer": "ipython3",
   "version": "3.13.1"
  }
 },
 "nbformat": 4,
 "nbformat_minor": 2
}
