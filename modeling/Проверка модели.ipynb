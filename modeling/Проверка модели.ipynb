{
 "cells": [
  {
   "cell_type": "code",
   "execution_count": 5,
   "id": "a4ae5272",
   "metadata": {},
   "outputs": [],
   "source": [
    "import numpy as np\n",
    "from scipy.sparse import csr_matrix"
   ]
  },
  {
   "cell_type": "code",
   "execution_count": 1,
   "id": "51dd4e5e",
   "metadata": {},
   "outputs": [],
   "source": [
    "import pickle\n",
    "\n",
    "with open('lightfm_model.pkl', 'rb') as f:\n",
    "    data = pickle.load(f)\n",
    "\n",
    "model = data[\"model\"]\n",
    "dataset = data[\"dataset\"]\n",
    "user_features_matrix = data[\"user_features_matrix\"]\n",
    "item_features_matrix = data[\"item_features_matrix\"]\n",
    "items = data[\"items\"]"
   ]
  },
  {
   "cell_type": "code",
   "execution_count": null,
   "id": "7fbd8ef1",
   "metadata": {},
   "outputs": [],
   "source": [
    "new_profile = [f\"пол:1\",  \n",
    "                f\"Графический дизайн:1\",\n",
    "                f\"Маркетинг и продажи:0\",\n",
    "                f\"Математика:1\",\n",
    "                f\"Разработка игр:1\",\n",
    "                f\"Языки программирования:1\"]\n",
    "\n",
    "\n",
    "mapping = dataset.mapping()              # получаем все отображения: users, items, features и т.д.\n",
    "user_feature_map = mapping[1]            # берем отображение признаков пользователей\n",
    "\n",
    "# 12. Преобразуем строковые признаки в числовые ID\n",
    "feature_ids = [user_feature_map[f] for f in new_profile]  # перевели признаки в индексы\n",
    "feature_ids\n",
    "\n",
    "\n",
    "\n",
    "data = np.ones(len(feature_ids))                       # все веса по 1.0\n",
    "rows = np.zeros(len(feature_ids))                      # одна строка, значит row = 0\n",
    "cols = feature_ids                                     # признаки располагаются в этих колонках\n",
    "new_user_matrix = csr_matrix((data, (rows, cols)), shape=(1, user_features_matrix.shape[1]))"
   ]
  },
  {
   "cell_type": "code",
   "execution_count": 7,
   "id": "d5efc580",
   "metadata": {},
   "outputs": [
    {
     "name": "stdout",
     "output_type": "stream",
     "text": [
      "Рекомендации для нового пользователя: ['\"Поколение Python\": курс для начинающих', '\"Поколение Python\": курс для профессионалов', 'Основы языка Java']\n"
     ]
    }
   ],
   "source": [
    "# 14. Предсказание интереса ко всем предметам для нового пользователя\n",
    "n_items = item_features_matrix.shape[0]                # количество курсов\n",
    "scores = model.predict(                                # получаем предсказания по dot product\n",
    "    user_ids=0,                                        # т.к. new_user_matrix имеет одну строку — индекс 0\n",
    "    item_ids=np.arange(n_items),\n",
    "    user_features=new_user_matrix,\n",
    "    item_features=item_features_matrix\n",
    ")\n",
    "\n",
    "# 15. Сортируем и выбираем топ-N рекомендаций\n",
    "# np.argsort возвращает индексы по убыванию значений\n",
    "recommended_indices = np.argsort(-scores)[:3]          # берём топ-3 курса\n",
    "print(\"Рекомендации для нового пользователя:\", [items[i] for i in recommended_indices])"
   ]
  },
  {
   "cell_type": "code",
   "execution_count": null,
   "id": "54bc1e50",
   "metadata": {},
   "outputs": [],
   "source": []
  }
 ],
 "metadata": {
  "kernelspec": {
   "display_name": "rec_System",
   "language": "python",
   "name": "python3"
  },
  "language_info": {
   "codemirror_mode": {
    "name": "ipython",
    "version": 3
   },
   "file_extension": ".py",
   "mimetype": "text/x-python",
   "name": "python",
   "nbconvert_exporter": "python",
   "pygments_lexer": "ipython3",
   "version": "3.11.9"
  }
 },
 "nbformat": 4,
 "nbformat_minor": 5
}
