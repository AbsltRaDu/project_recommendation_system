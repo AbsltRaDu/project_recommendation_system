{
 "cells": [
  {
   "cell_type": "code",
   "execution_count": 1,
   "id": "c4280336",
   "metadata": {},
   "outputs": [],
   "source": [
    "import pandas as pd\n",
    "import numpy as np\n",
    "import matplotlib.pyplot as plt\n",
    "import seaborn as sns"
   ]
  },
  {
   "cell_type": "markdown",
   "id": "b576d923",
   "metadata": {},
   "source": [
    "# Курсы"
   ]
  },
  {
   "cell_type": "code",
   "execution_count": 2,
   "id": "7004bef5",
   "metadata": {},
   "outputs": [
    {
     "data": {
      "text/html": [
       "<div>\n",
       "<style scoped>\n",
       "    .dataframe tbody tr th:only-of-type {\n",
       "        vertical-align: middle;\n",
       "    }\n",
       "\n",
       "    .dataframe tbody tr th {\n",
       "        vertical-align: top;\n",
       "    }\n",
       "\n",
       "    .dataframe thead th {\n",
       "        text-align: right;\n",
       "    }\n",
       "</style>\n",
       "<table border=\"1\" class=\"dataframe\">\n",
       "  <thead>\n",
       "    <tr style=\"text-align: right;\">\n",
       "      <th></th>\n",
       "      <th>Name</th>\n",
       "      <th>Authors</th>\n",
       "      <th>Summary</th>\n",
       "      <th>Rating</th>\n",
       "      <th>Learners</th>\n",
       "      <th>Picture</th>\n",
       "      <th>Link</th>\n",
       "      <th>Category</th>\n",
       "    </tr>\n",
       "  </thead>\n",
       "  <tbody>\n",
       "    <tr>\n",
       "      <th>0</th>\n",
       "      <td>\"Поколение Python\": курс для профессионалов</td>\n",
       "      <td>Тимур 🐍 Гуев, Поколение Python</td>\n",
       "      <td>Курс продолжает серию \"Поколение Python\" и рас...</td>\n",
       "      <td>5.0</td>\n",
       "      <td>13700</td>\n",
       "      <td>https://cdn.stepik.net/media/cache/images/cour...</td>\n",
       "      <td>https://stepik.org/course/82541?search=7087465318</td>\n",
       "      <td>Языки программирования</td>\n",
       "    </tr>\n",
       "    <tr>\n",
       "      <th>1</th>\n",
       "      <td>\"Поколение Python\": ООП</td>\n",
       "      <td>Тимур 🐍 Гуев, Поколение Python</td>\n",
       "      <td>Курс продолжает серию \"Поколение Python\" и рас...</td>\n",
       "      <td>4.9</td>\n",
       "      <td>6800</td>\n",
       "      <td>https://cdn.stepik.net/media/cache/images/cour...</td>\n",
       "      <td>https://stepik.org/course/98974?search=7087465319</td>\n",
       "      <td>Языки программирования</td>\n",
       "    </tr>\n",
       "    <tr>\n",
       "      <th>2</th>\n",
       "      <td>Асинхронность в Python. Asyncio</td>\n",
       "      <td>Александр Шибаев</td>\n",
       "      <td>Асинхронное программирование на Python в теори...</td>\n",
       "      <td>5.0</td>\n",
       "      <td>270</td>\n",
       "      <td>https://cdn.stepik.net/media/cache/images/cour...</td>\n",
       "      <td>https://stepik.org/course/189436?search=708746...</td>\n",
       "      <td>Языки программирования</td>\n",
       "    </tr>\n",
       "    <tr>\n",
       "      <th>3</th>\n",
       "      <td>\"Поколение Python\": курс для начинающих</td>\n",
       "      <td>Тимур 🐍 Гуев, Поколение Python, Благотворитель...</td>\n",
       "      <td>В курсе рассказывается об основных типах данны...</td>\n",
       "      <td>5.0</td>\n",
       "      <td>1200000</td>\n",
       "      <td>https://cdn.stepik.net/media/cache/images/cour...</td>\n",
       "      <td>https://stepik.org/course/58852?search=7087465321</td>\n",
       "      <td>Языки программирования</td>\n",
       "    </tr>\n",
       "    <tr>\n",
       "      <th>4</th>\n",
       "      <td>Основы SQL</td>\n",
       "      <td>Shultais Education</td>\n",
       "      <td>Курс по основам SQL на Stepik (с поддержкой). ...</td>\n",
       "      <td>5.0</td>\n",
       "      <td>5700</td>\n",
       "      <td>https://cdn.stepik.net/media/cache/images/cour...</td>\n",
       "      <td>https://stepik.org/course/51562?search=7087465322</td>\n",
       "      <td>Языки программирования</td>\n",
       "    </tr>\n",
       "    <tr>\n",
       "      <th>...</th>\n",
       "      <td>...</td>\n",
       "      <td>...</td>\n",
       "      <td>...</td>\n",
       "      <td>...</td>\n",
       "      <td>...</td>\n",
       "      <td>...</td>\n",
       "      <td>...</td>\n",
       "      <td>...</td>\n",
       "    </tr>\n",
       "    <tr>\n",
       "      <th>464</th>\n",
       "      <td>Как создать аккаунт в TikTok и монетизировать его</td>\n",
       "      <td>Антон Евлухин</td>\n",
       "      <td>Количество интернет-пользователей увеличиваетс...</td>\n",
       "      <td>NaN</td>\n",
       "      <td>5</td>\n",
       "      <td>https://cdn.stepik.net/media/cache/images/cour...</td>\n",
       "      <td>https://stepik.org/course/181382?search=708759...</td>\n",
       "      <td>Маркетинг и продажи</td>\n",
       "    </tr>\n",
       "    <tr>\n",
       "      <th>465</th>\n",
       "      <td>Битрикс24 для Агентств Недвижимости</td>\n",
       "      <td>Карпов и Партнеры</td>\n",
       "      <td>Курс \"Битрикс24 для Агентств Недвижимости\" пом...</td>\n",
       "      <td>NaN</td>\n",
       "      <td>123</td>\n",
       "      <td>https://cdn.stepik.net/media/cache/images/cour...</td>\n",
       "      <td>https://stepik.org/course/193375?search=708759...</td>\n",
       "      <td>Маркетинг и продажи</td>\n",
       "    </tr>\n",
       "    <tr>\n",
       "      <th>466</th>\n",
       "      <td>ТРЕНАЖЕР ЯРКОГО ТЕКСТА: как писать тексты для ...</td>\n",
       "      <td>NaN</td>\n",
       "      <td>Курс-тренажер нового формата – научитесь писат...</td>\n",
       "      <td>NaN</td>\n",
       "      <td>8</td>\n",
       "      <td>https://cdn.stepik.net/media/cache/images/cour...</td>\n",
       "      <td>https://stepik.org/course/183526?search=708759...</td>\n",
       "      <td>Маркетинг и продажи</td>\n",
       "    </tr>\n",
       "    <tr>\n",
       "      <th>467</th>\n",
       "      <td>Технический администратор образовательных прое...</td>\n",
       "      <td>Startgram EdTech</td>\n",
       "      <td>Курс-практикум по запуску и администрированию ...</td>\n",
       "      <td>NaN</td>\n",
       "      <td>82</td>\n",
       "      <td>https://cdn.stepik.net/media/cache/images/cour...</td>\n",
       "      <td>https://stepik.org/course/97425?search=7087593772</td>\n",
       "      <td>Маркетинг и продажи</td>\n",
       "    </tr>\n",
       "    <tr>\n",
       "      <th>468</th>\n",
       "      <td>Ревенью Менеджмент: Модели прогнозирования и м...</td>\n",
       "      <td>Леонид Комаров</td>\n",
       "      <td>Этот курс - 1 часть пакета курсов по Управлени...</td>\n",
       "      <td>NaN</td>\n",
       "      <td>12</td>\n",
       "      <td>https://cdn.stepik.net/media/cache/images/cour...</td>\n",
       "      <td>https://stepik.org/course/200488?search=708759...</td>\n",
       "      <td>Маркетинг и продажи</td>\n",
       "    </tr>\n",
       "  </tbody>\n",
       "</table>\n",
       "<p>469 rows × 8 columns</p>\n",
       "</div>"
      ],
      "text/plain": [
       "                                                  Name  \\\n",
       "0          \"Поколение Python\": курс для профессионалов   \n",
       "1                              \"Поколение Python\": ООП   \n",
       "2                      Асинхронность в Python. Asyncio   \n",
       "3              \"Поколение Python\": курс для начинающих   \n",
       "4                                           Основы SQL   \n",
       "..                                                 ...   \n",
       "464  Как создать аккаунт в TikTok и монетизировать его   \n",
       "465                Битрикс24 для Агентств Недвижимости   \n",
       "466  ТРЕНАЖЕР ЯРКОГО ТЕКСТА: как писать тексты для ...   \n",
       "467  Технический администратор образовательных прое...   \n",
       "468  Ревенью Менеджмент: Модели прогнозирования и м...   \n",
       "\n",
       "                                               Authors  \\\n",
       "0                       Тимур 🐍 Гуев, Поколение Python   \n",
       "1                       Тимур 🐍 Гуев, Поколение Python   \n",
       "2                                     Александр Шибаев   \n",
       "3    Тимур 🐍 Гуев, Поколение Python, Благотворитель...   \n",
       "4                                   Shultais Education   \n",
       "..                                                 ...   \n",
       "464                                      Антон Евлухин   \n",
       "465                                  Карпов и Партнеры   \n",
       "466                                                NaN   \n",
       "467                                   Startgram EdTech   \n",
       "468                                     Леонид Комаров   \n",
       "\n",
       "                                               Summary  Rating  Learners  \\\n",
       "0    Курс продолжает серию \"Поколение Python\" и рас...     5.0     13700   \n",
       "1    Курс продолжает серию \"Поколение Python\" и рас...     4.9      6800   \n",
       "2    Асинхронное программирование на Python в теори...     5.0       270   \n",
       "3    В курсе рассказывается об основных типах данны...     5.0   1200000   \n",
       "4    Курс по основам SQL на Stepik (с поддержкой). ...     5.0      5700   \n",
       "..                                                 ...     ...       ...   \n",
       "464  Количество интернет-пользователей увеличиваетс...     NaN         5   \n",
       "465  Курс \"Битрикс24 для Агентств Недвижимости\" пом...     NaN       123   \n",
       "466  Курс-тренажер нового формата – научитесь писат...     NaN         8   \n",
       "467  Курс-практикум по запуску и администрированию ...     NaN        82   \n",
       "468  Этот курс - 1 часть пакета курсов по Управлени...     NaN        12   \n",
       "\n",
       "                                               Picture  \\\n",
       "0    https://cdn.stepik.net/media/cache/images/cour...   \n",
       "1    https://cdn.stepik.net/media/cache/images/cour...   \n",
       "2    https://cdn.stepik.net/media/cache/images/cour...   \n",
       "3    https://cdn.stepik.net/media/cache/images/cour...   \n",
       "4    https://cdn.stepik.net/media/cache/images/cour...   \n",
       "..                                                 ...   \n",
       "464  https://cdn.stepik.net/media/cache/images/cour...   \n",
       "465  https://cdn.stepik.net/media/cache/images/cour...   \n",
       "466  https://cdn.stepik.net/media/cache/images/cour...   \n",
       "467  https://cdn.stepik.net/media/cache/images/cour...   \n",
       "468  https://cdn.stepik.net/media/cache/images/cour...   \n",
       "\n",
       "                                                  Link                Category  \n",
       "0    https://stepik.org/course/82541?search=7087465318  Языки программирования  \n",
       "1    https://stepik.org/course/98974?search=7087465319  Языки программирования  \n",
       "2    https://stepik.org/course/189436?search=708746...  Языки программирования  \n",
       "3    https://stepik.org/course/58852?search=7087465321  Языки программирования  \n",
       "4    https://stepik.org/course/51562?search=7087465322  Языки программирования  \n",
       "..                                                 ...                     ...  \n",
       "464  https://stepik.org/course/181382?search=708759...     Маркетинг и продажи  \n",
       "465  https://stepik.org/course/193375?search=708759...     Маркетинг и продажи  \n",
       "466  https://stepik.org/course/183526?search=708759...     Маркетинг и продажи  \n",
       "467  https://stepik.org/course/97425?search=7087593772     Маркетинг и продажи  \n",
       "468  https://stepik.org/course/200488?search=708759...     Маркетинг и продажи  \n",
       "\n",
       "[469 rows x 8 columns]"
      ]
     },
     "execution_count": 2,
     "metadata": {},
     "output_type": "execute_result"
    }
   ],
   "source": [
    "df = pd.read_csv('Датасет.csv')\n",
    "df"
   ]
  },
  {
   "cell_type": "markdown",
   "id": "a94004b1",
   "metadata": {},
   "source": [
    "## Создаем таблицу курсов с доп. признаками"
   ]
  },
  {
   "cell_type": "code",
   "execution_count": 3,
   "id": "960f6185",
   "metadata": {},
   "outputs": [
    {
     "name": "stderr",
     "output_type": "stream",
     "text": [
      "/tmp/ipykernel_10145/365564555.py:4: FutureWarning: A value is trying to be set on a copy of a DataFrame or Series through chained assignment using an inplace method.\n",
      "The behavior will change in pandas 3.0. This inplace method will never work because the intermediate object on which we are setting values always behaves as a copy.\n",
      "\n",
      "For example, when doing 'df[col].method(value, inplace=True)', try using 'df.method({col: value}, inplace=True)' or df[col] = df[col].method(value) instead, to perform the operation inplace on the original object.\n",
      "\n",
      "\n",
      "  df_items['Rating'].fillna(0, inplace=True)\n"
     ]
    },
    {
     "data": {
      "text/html": [
       "<div>\n",
       "<style scoped>\n",
       "    .dataframe tbody tr th:only-of-type {\n",
       "        vertical-align: middle;\n",
       "    }\n",
       "\n",
       "    .dataframe tbody tr th {\n",
       "        vertical-align: top;\n",
       "    }\n",
       "\n",
       "    .dataframe thead th {\n",
       "        text-align: right;\n",
       "    }\n",
       "</style>\n",
       "<table border=\"1\" class=\"dataframe\">\n",
       "  <thead>\n",
       "    <tr style=\"text-align: right;\">\n",
       "      <th></th>\n",
       "      <th>item_id</th>\n",
       "      <th>rating</th>\n",
       "      <th>Графический дизайн</th>\n",
       "      <th>Маркетинг и продажи</th>\n",
       "      <th>Математика</th>\n",
       "      <th>Разработка игр</th>\n",
       "      <th>Языки программирования</th>\n",
       "    </tr>\n",
       "  </thead>\n",
       "  <tbody>\n",
       "    <tr>\n",
       "      <th>0</th>\n",
       "      <td>\"Поколение Python\": курс для профессионалов</td>\n",
       "      <td>5.0</td>\n",
       "      <td>0</td>\n",
       "      <td>0</td>\n",
       "      <td>0</td>\n",
       "      <td>0</td>\n",
       "      <td>1</td>\n",
       "    </tr>\n",
       "    <tr>\n",
       "      <th>1</th>\n",
       "      <td>\"Поколение Python\": ООП</td>\n",
       "      <td>4.9</td>\n",
       "      <td>0</td>\n",
       "      <td>0</td>\n",
       "      <td>0</td>\n",
       "      <td>0</td>\n",
       "      <td>1</td>\n",
       "    </tr>\n",
       "    <tr>\n",
       "      <th>2</th>\n",
       "      <td>Асинхронность в Python. Asyncio</td>\n",
       "      <td>5.0</td>\n",
       "      <td>0</td>\n",
       "      <td>0</td>\n",
       "      <td>0</td>\n",
       "      <td>0</td>\n",
       "      <td>1</td>\n",
       "    </tr>\n",
       "    <tr>\n",
       "      <th>3</th>\n",
       "      <td>\"Поколение Python\": курс для начинающих</td>\n",
       "      <td>5.0</td>\n",
       "      <td>0</td>\n",
       "      <td>0</td>\n",
       "      <td>0</td>\n",
       "      <td>0</td>\n",
       "      <td>1</td>\n",
       "    </tr>\n",
       "    <tr>\n",
       "      <th>4</th>\n",
       "      <td>Основы SQL</td>\n",
       "      <td>5.0</td>\n",
       "      <td>0</td>\n",
       "      <td>0</td>\n",
       "      <td>0</td>\n",
       "      <td>0</td>\n",
       "      <td>1</td>\n",
       "    </tr>\n",
       "    <tr>\n",
       "      <th>...</th>\n",
       "      <td>...</td>\n",
       "      <td>...</td>\n",
       "      <td>...</td>\n",
       "      <td>...</td>\n",
       "      <td>...</td>\n",
       "      <td>...</td>\n",
       "      <td>...</td>\n",
       "    </tr>\n",
       "    <tr>\n",
       "      <th>464</th>\n",
       "      <td>Как создать аккаунт в TikTok и монетизировать его</td>\n",
       "      <td>0.0</td>\n",
       "      <td>0</td>\n",
       "      <td>1</td>\n",
       "      <td>0</td>\n",
       "      <td>0</td>\n",
       "      <td>0</td>\n",
       "    </tr>\n",
       "    <tr>\n",
       "      <th>465</th>\n",
       "      <td>Битрикс24 для Агентств Недвижимости</td>\n",
       "      <td>0.0</td>\n",
       "      <td>0</td>\n",
       "      <td>1</td>\n",
       "      <td>0</td>\n",
       "      <td>0</td>\n",
       "      <td>0</td>\n",
       "    </tr>\n",
       "    <tr>\n",
       "      <th>466</th>\n",
       "      <td>ТРЕНАЖЕР ЯРКОГО ТЕКСТА: как писать тексты для ...</td>\n",
       "      <td>0.0</td>\n",
       "      <td>0</td>\n",
       "      <td>1</td>\n",
       "      <td>0</td>\n",
       "      <td>0</td>\n",
       "      <td>0</td>\n",
       "    </tr>\n",
       "    <tr>\n",
       "      <th>467</th>\n",
       "      <td>Технический администратор образовательных прое...</td>\n",
       "      <td>0.0</td>\n",
       "      <td>0</td>\n",
       "      <td>1</td>\n",
       "      <td>0</td>\n",
       "      <td>0</td>\n",
       "      <td>0</td>\n",
       "    </tr>\n",
       "    <tr>\n",
       "      <th>468</th>\n",
       "      <td>Ревенью Менеджмент: Модели прогнозирования и м...</td>\n",
       "      <td>0.0</td>\n",
       "      <td>0</td>\n",
       "      <td>1</td>\n",
       "      <td>0</td>\n",
       "      <td>0</td>\n",
       "      <td>0</td>\n",
       "    </tr>\n",
       "  </tbody>\n",
       "</table>\n",
       "<p>460 rows × 7 columns</p>\n",
       "</div>"
      ],
      "text/plain": [
       "                                               item_id  rating  \\\n",
       "0          \"Поколение Python\": курс для профессионалов     5.0   \n",
       "1                              \"Поколение Python\": ООП     4.9   \n",
       "2                      Асинхронность в Python. Asyncio     5.0   \n",
       "3              \"Поколение Python\": курс для начинающих     5.0   \n",
       "4                                           Основы SQL     5.0   \n",
       "..                                                 ...     ...   \n",
       "464  Как создать аккаунт в TikTok и монетизировать его     0.0   \n",
       "465                Битрикс24 для Агентств Недвижимости     0.0   \n",
       "466  ТРЕНАЖЕР ЯРКОГО ТЕКСТА: как писать тексты для ...     0.0   \n",
       "467  Технический администратор образовательных прое...     0.0   \n",
       "468  Ревенью Менеджмент: Модели прогнозирования и м...     0.0   \n",
       "\n",
       "     Графический дизайн  Маркетинг и продажи  Математика  Разработка игр  \\\n",
       "0                     0                    0           0               0   \n",
       "1                     0                    0           0               0   \n",
       "2                     0                    0           0               0   \n",
       "3                     0                    0           0               0   \n",
       "4                     0                    0           0               0   \n",
       "..                  ...                  ...         ...             ...   \n",
       "464                   0                    1           0               0   \n",
       "465                   0                    1           0               0   \n",
       "466                   0                    1           0               0   \n",
       "467                   0                    1           0               0   \n",
       "468                   0                    1           0               0   \n",
       "\n",
       "     Языки программирования  \n",
       "0                         1  \n",
       "1                         1  \n",
       "2                         1  \n",
       "3                         1  \n",
       "4                         1  \n",
       "..                      ...  \n",
       "464                       0  \n",
       "465                       0  \n",
       "466                       0  \n",
       "467                       0  \n",
       "468                       0  \n",
       "\n",
       "[460 rows x 7 columns]"
      ]
     },
     "execution_count": 3,
     "metadata": {},
     "output_type": "execute_result"
    }
   ],
   "source": [
    "df_dummies = pd.get_dummies(df['Category']).astype(int) # Категориальный признак\n",
    "df_items = pd.concat([df.iloc[:,:-1], df_dummies], axis=1)\n",
    "df_items = df_items[['Name', 'Rating'] + df_dummies.columns.tolist()]\n",
    "df_items['Rating'].fillna(0, inplace=True)\n",
    "df_items = df_items.rename(\n",
    "    columns={'Name': 'item_id',\n",
    "             'Rating': 'rating'\n",
    "        }\n",
    "    )\n",
    "df_items.drop_duplicates(subset=['item_id'], inplace=True)\n",
    "df_items"
   ]
  },
  {
   "cell_type": "markdown",
   "id": "81213798",
   "metadata": {},
   "source": [
    "## EDA"
   ]
  },
  {
   "cell_type": "code",
   "execution_count": 26,
   "id": "0c2714cf",
   "metadata": {},
   "outputs": [
    {
     "data": {
      "text/plain": [
       "5"
      ]
     },
     "execution_count": 26,
     "metadata": {},
     "output_type": "execute_result"
    }
   ],
   "source": [
    "df['Category'].nunique() # Категориалка"
   ]
  },
  {
   "cell_type": "code",
   "execution_count": 32,
   "id": "ca466d59",
   "metadata": {},
   "outputs": [
    {
     "data": {
      "text/plain": [
       "<Axes: xlabel='Category', ylabel='Count'>"
      ]
     },
     "execution_count": 32,
     "metadata": {},
     "output_type": "execute_result"
    },
    {
     "data": {
      "image/png": "[encoded data removed]",
      "text/plain": [
       "<Figure size 640x480 with 1 Axes>"
      ]
     },
     "metadata": {},
     "output_type": "display_data"
    }
   ],
   "source": [
    "sns.histplot(data=df, x='Category')"
   ]
  },
  {
   "cell_type": "markdown",
   "id": "ea0c28dc",
   "metadata": {},
   "source": [
    "# Пользователи"
   ]
  },
  {
   "cell_type": "code",
   "execution_count": 4,
   "id": "6b176e23",
   "metadata": {},
   "outputs": [
    {
     "data": {
      "text/html": [
       "<div>\n",
       "<style scoped>\n",
       "    .dataframe tbody tr th:only-of-type {\n",
       "        vertical-align: middle;\n",
       "    }\n",
       "\n",
       "    .dataframe tbody tr th {\n",
       "        vertical-align: top;\n",
       "    }\n",
       "\n",
       "    .dataframe thead th {\n",
       "        text-align: right;\n",
       "    }\n",
       "</style>\n",
       "<table border=\"1\" class=\"dataframe\">\n",
       "  <thead>\n",
       "    <tr style=\"text-align: right;\">\n",
       "      <th></th>\n",
       "      <th>id</th>\n",
       "      <th>пол</th>\n",
       "      <th>возраст</th>\n",
       "      <th>предпочтение</th>\n",
       "      <th>пройденные_курсы</th>\n",
       "      <th>количество_курсов</th>\n",
       "      <th>оценка</th>\n",
       "    </tr>\n",
       "  </thead>\n",
       "  <tbody>\n",
       "    <tr>\n",
       "      <th>0</th>\n",
       "      <td>1</td>\n",
       "      <td>Ж</td>\n",
       "      <td>26</td>\n",
       "      <td>Математика</td>\n",
       "      <td>\"Поколение Python\": курс для начинающих</td>\n",
       "      <td>9</td>\n",
       "      <td>9</td>\n",
       "    </tr>\n",
       "    <tr>\n",
       "      <th>1</th>\n",
       "      <td>1</td>\n",
       "      <td>Ж</td>\n",
       "      <td>26</td>\n",
       "      <td>Математика</td>\n",
       "      <td>Дроби - 2в1 (Математика, 5 класс)</td>\n",
       "      <td>9</td>\n",
       "      <td>10</td>\n",
       "    </tr>\n",
       "    <tr>\n",
       "      <th>2</th>\n",
       "      <td>1</td>\n",
       "      <td>Ж</td>\n",
       "      <td>26</td>\n",
       "      <td>Математика</td>\n",
       "      <td>Практикум по математике и Python</td>\n",
       "      <td>9</td>\n",
       "      <td>9</td>\n",
       "    </tr>\n",
       "    <tr>\n",
       "      <th>3</th>\n",
       "      <td>1</td>\n",
       "      <td>Ж</td>\n",
       "      <td>26</td>\n",
       "      <td>Математика</td>\n",
       "      <td>ЕГЭ по математике 2025: первая часть</td>\n",
       "      <td>9</td>\n",
       "      <td>1</td>\n",
       "    </tr>\n",
       "    <tr>\n",
       "      <th>4</th>\n",
       "      <td>1</td>\n",
       "      <td>Ж</td>\n",
       "      <td>26</td>\n",
       "      <td>Математика</td>\n",
       "      <td>АА - Активный Английский от Екатерины Зак для ...</td>\n",
       "      <td>9</td>\n",
       "      <td>9</td>\n",
       "    </tr>\n",
       "    <tr>\n",
       "      <th>...</th>\n",
       "      <td>...</td>\n",
       "      <td>...</td>\n",
       "      <td>...</td>\n",
       "      <td>...</td>\n",
       "      <td>...</td>\n",
       "      <td>...</td>\n",
       "      <td>...</td>\n",
       "    </tr>\n",
       "    <tr>\n",
       "      <th>22788</th>\n",
       "      <td>2000</td>\n",
       "      <td>Ж</td>\n",
       "      <td>21</td>\n",
       "      <td>Разработка игр</td>\n",
       "      <td>НТО Junior 22. ОК «Технологии и компьютерные и...</td>\n",
       "      <td>9</td>\n",
       "      <td>8</td>\n",
       "    </tr>\n",
       "    <tr>\n",
       "      <th>22789</th>\n",
       "      <td>2000</td>\n",
       "      <td>Ж</td>\n",
       "      <td>21</td>\n",
       "      <td>Разработка игр</td>\n",
       "      <td>НТО Junior 23-24. ОК \"Технологии и компьютерны...</td>\n",
       "      <td>9</td>\n",
       "      <td>10</td>\n",
       "    </tr>\n",
       "    <tr>\n",
       "      <th>22790</th>\n",
       "      <td>2000</td>\n",
       "      <td>Ж</td>\n",
       "      <td>21</td>\n",
       "      <td>Разработка игр</td>\n",
       "      <td>Продвинутый уровень на Python</td>\n",
       "      <td>9</td>\n",
       "      <td>1</td>\n",
       "    </tr>\n",
       "    <tr>\n",
       "      <th>22791</th>\n",
       "      <td>2000</td>\n",
       "      <td>Ж</td>\n",
       "      <td>21</td>\n",
       "      <td>Разработка игр</td>\n",
       "      <td>Подготовка к ОГЭ по Математике от эксперта 2025</td>\n",
       "      <td>9</td>\n",
       "      <td>10</td>\n",
       "    </tr>\n",
       "    <tr>\n",
       "      <th>22792</th>\n",
       "      <td>2000</td>\n",
       "      <td>Ж</td>\n",
       "      <td>21</td>\n",
       "      <td>Разработка игр</td>\n",
       "      <td>Математика (геометрия ОГЭ 1 часть) 2025 год</td>\n",
       "      <td>9</td>\n",
       "      <td>6</td>\n",
       "    </tr>\n",
       "  </tbody>\n",
       "</table>\n",
       "<p>22793 rows × 7 columns</p>\n",
       "</div>"
      ],
      "text/plain": [
       "         id пол  возраст    предпочтение  \\\n",
       "0         1   Ж       26      Математика   \n",
       "1         1   Ж       26      Математика   \n",
       "2         1   Ж       26      Математика   \n",
       "3         1   Ж       26      Математика   \n",
       "4         1   Ж       26      Математика   \n",
       "...     ...  ..      ...             ...   \n",
       "22788  2000   Ж       21  Разработка игр   \n",
       "22789  2000   Ж       21  Разработка игр   \n",
       "22790  2000   Ж       21  Разработка игр   \n",
       "22791  2000   Ж       21  Разработка игр   \n",
       "22792  2000   Ж       21  Разработка игр   \n",
       "\n",
       "                                        пройденные_курсы  количество_курсов  \\\n",
       "0                \"Поколение Python\": курс для начинающих                  9   \n",
       "1                      Дроби - 2в1 (Математика, 5 класс)                  9   \n",
       "2                       Практикум по математике и Python                  9   \n",
       "3                   ЕГЭ по математике 2025: первая часть                  9   \n",
       "4      АА - Активный Английский от Екатерины Зак для ...                  9   \n",
       "...                                                  ...                ...   \n",
       "22788  НТО Junior 22. ОК «Технологии и компьютерные и...                  9   \n",
       "22789  НТО Junior 23-24. ОК \"Технологии и компьютерны...                  9   \n",
       "22790                      Продвинутый уровень на Python                  9   \n",
       "22791    Подготовка к ОГЭ по Математике от эксперта 2025                  9   \n",
       "22792        Математика (геометрия ОГЭ 1 часть) 2025 год                  9   \n",
       "\n",
       "       оценка  \n",
       "0           9  \n",
       "1          10  \n",
       "2           9  \n",
       "3           1  \n",
       "4           9  \n",
       "...       ...  \n",
       "22788       8  \n",
       "22789      10  \n",
       "22790       1  \n",
       "22791      10  \n",
       "22792       6  \n",
       "\n",
       "[22793 rows x 7 columns]"
      ]
     },
     "execution_count": 4,
     "metadata": {},
     "output_type": "execute_result"
    }
   ],
   "source": [
    "df1 = pd.read_csv('ДатасетПользователи.csv')\n",
    "df1"
   ]
  },
  {
   "cell_type": "markdown",
   "id": "3cd1463d",
   "metadata": {},
   "source": [
    "## Создаем таблицу юзеров с доп. признаками"
   ]
  },
  {
   "cell_type": "code",
   "execution_count": 5,
   "id": "5287dedb",
   "metadata": {},
   "outputs": [],
   "source": [
    "df_users = df1[['id', 'пол', 'возраст', 'предпочтение']]"
   ]
  },
  {
   "cell_type": "code",
   "execution_count": 12,
   "id": "360aebf9",
   "metadata": {},
   "outputs": [
    {
     "data": {
      "text/html": [
       "<div>\n",
       "<style scoped>\n",
       "    .dataframe tbody tr th:only-of-type {\n",
       "        vertical-align: middle;\n",
       "    }\n",
       "\n",
       "    .dataframe tbody tr th {\n",
       "        vertical-align: top;\n",
       "    }\n",
       "\n",
       "    .dataframe thead th {\n",
       "        text-align: right;\n",
       "    }\n",
       "</style>\n",
       "<table border=\"1\" class=\"dataframe\">\n",
       "  <thead>\n",
       "    <tr style=\"text-align: right;\">\n",
       "      <th></th>\n",
       "      <th>user_id</th>\n",
       "      <th>пол</th>\n",
       "      <th>Графический дизайн</th>\n",
       "      <th>Маркетинг и продажи</th>\n",
       "      <th>Математика</th>\n",
       "      <th>Разработка игр</th>\n",
       "      <th>Языки программирования</th>\n",
       "    </tr>\n",
       "  </thead>\n",
       "  <tbody>\n",
       "    <tr>\n",
       "      <th>0</th>\n",
       "      <td>1</td>\n",
       "      <td>1</td>\n",
       "      <td>0</td>\n",
       "      <td>0</td>\n",
       "      <td>1</td>\n",
       "      <td>0</td>\n",
       "      <td>0</td>\n",
       "    </tr>\n",
       "    <tr>\n",
       "      <th>9</th>\n",
       "      <td>2</td>\n",
       "      <td>1</td>\n",
       "      <td>0</td>\n",
       "      <td>0</td>\n",
       "      <td>0</td>\n",
       "      <td>1</td>\n",
       "      <td>0</td>\n",
       "    </tr>\n",
       "    <tr>\n",
       "      <th>26</th>\n",
       "      <td>3</td>\n",
       "      <td>1</td>\n",
       "      <td>0</td>\n",
       "      <td>0</td>\n",
       "      <td>1</td>\n",
       "      <td>0</td>\n",
       "      <td>0</td>\n",
       "    </tr>\n",
       "    <tr>\n",
       "      <th>40</th>\n",
       "      <td>4</td>\n",
       "      <td>1</td>\n",
       "      <td>0</td>\n",
       "      <td>0</td>\n",
       "      <td>1</td>\n",
       "      <td>0</td>\n",
       "      <td>0</td>\n",
       "    </tr>\n",
       "    <tr>\n",
       "      <th>49</th>\n",
       "      <td>5</td>\n",
       "      <td>1</td>\n",
       "      <td>1</td>\n",
       "      <td>0</td>\n",
       "      <td>0</td>\n",
       "      <td>0</td>\n",
       "      <td>0</td>\n",
       "    </tr>\n",
       "    <tr>\n",
       "      <th>...</th>\n",
       "      <td>...</td>\n",
       "      <td>...</td>\n",
       "      <td>...</td>\n",
       "      <td>...</td>\n",
       "      <td>...</td>\n",
       "      <td>...</td>\n",
       "      <td>...</td>\n",
       "    </tr>\n",
       "    <tr>\n",
       "      <th>22738</th>\n",
       "      <td>1996</td>\n",
       "      <td>1</td>\n",
       "      <td>1</td>\n",
       "      <td>0</td>\n",
       "      <td>0</td>\n",
       "      <td>0</td>\n",
       "      <td>0</td>\n",
       "    </tr>\n",
       "    <tr>\n",
       "      <th>22747</th>\n",
       "      <td>1997</td>\n",
       "      <td>1</td>\n",
       "      <td>0</td>\n",
       "      <td>0</td>\n",
       "      <td>0</td>\n",
       "      <td>0</td>\n",
       "      <td>1</td>\n",
       "    </tr>\n",
       "    <tr>\n",
       "      <th>22765</th>\n",
       "      <td>1998</td>\n",
       "      <td>1</td>\n",
       "      <td>1</td>\n",
       "      <td>0</td>\n",
       "      <td>0</td>\n",
       "      <td>0</td>\n",
       "      <td>0</td>\n",
       "    </tr>\n",
       "    <tr>\n",
       "      <th>22773</th>\n",
       "      <td>1999</td>\n",
       "      <td>1</td>\n",
       "      <td>1</td>\n",
       "      <td>0</td>\n",
       "      <td>0</td>\n",
       "      <td>0</td>\n",
       "      <td>0</td>\n",
       "    </tr>\n",
       "    <tr>\n",
       "      <th>22784</th>\n",
       "      <td>2000</td>\n",
       "      <td>1</td>\n",
       "      <td>0</td>\n",
       "      <td>0</td>\n",
       "      <td>0</td>\n",
       "      <td>1</td>\n",
       "      <td>0</td>\n",
       "    </tr>\n",
       "  </tbody>\n",
       "</table>\n",
       "<p>2000 rows × 7 columns</p>\n",
       "</div>"
      ],
      "text/plain": [
       "       user_id  пол  Графический дизайн  Маркетинг и продажи  Математика  \\\n",
       "0            1    1                   0                    0           1   \n",
       "9            2    1                   0                    0           0   \n",
       "26           3    1                   0                    0           1   \n",
       "40           4    1                   0                    0           1   \n",
       "49           5    1                   1                    0           0   \n",
       "...        ...  ...                 ...                  ...         ...   \n",
       "22738     1996    1                   1                    0           0   \n",
       "22747     1997    1                   0                    0           0   \n",
       "22765     1998    1                   1                    0           0   \n",
       "22773     1999    1                   1                    0           0   \n",
       "22784     2000    1                   0                    0           0   \n",
       "\n",
       "       Разработка игр  Языки программирования  \n",
       "0                   0                       0  \n",
       "9                   1                       0  \n",
       "26                  0                       0  \n",
       "40                  0                       0  \n",
       "49                  0                       0  \n",
       "...               ...                     ...  \n",
       "22738               0                       0  \n",
       "22747               0                       1  \n",
       "22765               0                       0  \n",
       "22773               0                       0  \n",
       "22784               1                       0  \n",
       "\n",
       "[2000 rows x 7 columns]"
      ]
     },
     "execution_count": 12,
     "metadata": {},
     "output_type": "execute_result"
    }
   ],
   "source": [
    "df_dummies = pd.get_dummies(df1['предпочтение']).astype(int)\n",
    "df_users = pd.concat([df1.drop(columns=['предпочтение']), df_dummies], axis=1)\n",
    "df_users = df_users[['id', 'пол'] + df_dummies.columns.tolist()]\n",
    "df_users['пол'] = df_users['пол'].apply(lambda x: 1 if 'М' else 0) # Мужчина НОМЕР 1\n",
    "df_users = df_users.rename(\n",
    "    columns={\n",
    "        'id': 'user_id'\n",
    "    })\n",
    "df_users.drop_duplicates(subset=['user_id'], inplace=True)\n",
    "df_users"
   ]
  },
  {
   "cell_type": "markdown",
   "id": "4175e9c7",
   "metadata": {},
   "source": [
    "## EDA"
   ]
  },
  {
   "cell_type": "code",
   "execution_count": 30,
   "id": "fd5b4371",
   "metadata": {},
   "outputs": [
    {
     "data": {
      "text/plain": [
       "id                   0\n",
       "пол                  0\n",
       "возраст              0\n",
       "предпочтение         0\n",
       "пройденные_курсы     0\n",
       "количество_курсов    0\n",
       "оценка               0\n",
       "dtype: int64"
      ]
     },
     "execution_count": 30,
     "metadata": {},
     "output_type": "execute_result"
    }
   ],
   "source": [
    "df1.isna().sum()"
   ]
  },
  {
   "cell_type": "code",
   "execution_count": 4,
   "id": "b998aa34",
   "metadata": {},
   "outputs": [
    {
     "data": {
      "text/plain": [
       "<Axes: xlabel='оценка', ylabel='Count'>"
      ]
     },
     "execution_count": 4,
     "metadata": {},
     "output_type": "execute_result"
    },
    {
     "data": {
      "image/png": "[encoded data removed]",
      "text/plain": [
       "<Figure size 640x480 with 1 Axes>"
      ]
     },
     "metadata": {},
     "output_type": "display_data"
    }
   ],
   "source": [
    "sns.histplot(data=df1, x='оценка')"
   ]
  },
  {
   "cell_type": "code",
   "execution_count": 29,
   "id": "461d92f7",
   "metadata": {},
   "outputs": [
    {
     "data": {
      "text/plain": [
       "<Axes: xlabel='количество_курсов', ylabel='Count'>"
      ]
     },
     "execution_count": 29,
     "metadata": {},
     "output_type": "execute_result"
    },
    {
     "data": {
      "image/png": "[encoded data removed]",
      "text/plain": [
       "<Figure size 640x480 with 1 Axes>"
      ]
     },
     "metadata": {},
     "output_type": "display_data"
    }
   ],
   "source": [
    "sns.histplot(data=df1, x='количество_курсов')"
   ]
  },
  {
   "cell_type": "code",
   "execution_count": 27,
   "id": "43509020",
   "metadata": {},
   "outputs": [
    {
     "data": {
      "text/plain": [
       "([<matplotlib.patches.Wedge at 0x7f27ba3c0470>,\n",
       "  <matplotlib.patches.Wedge at 0x7f27ba3bd2e0>,\n",
       "  <matplotlib.patches.Wedge at 0x7f27ba3c26c0>,\n",
       "  <matplotlib.patches.Wedge at 0x7f27ba3c2e70>,\n",
       "  <matplotlib.patches.Wedge at 0x7f27ba3c3530>],\n",
       " [Text(0.840120481251793, 0.7100687128590135, 'Математика'),\n",
       "  Text(-0.5252221338388213, 0.9665100672656212, 'Разработка игр'),\n",
       "  Text(-1.075184992816988, -0.23233000499533726, 'Маркетинг и продажи'),\n",
       "  Text(-0.172504320804111, -1.086389552280356, 'Языки программирования'),\n",
       "  Text(0.9235864058538217, -0.5974848541360859, 'Графический дизайн')],\n",
       " [Text(0.4582475352282506, 0.3873102070140073, '22.3%'),\n",
       "  Text(-0.28648480027572065, 0.5271873094176115, '21.2%'),\n",
       "  Text(-0.5864645415365389, -0.12672545727018394, '19.8%'),\n",
       "  Text(-0.09409326589315144, -0.5925761194256487, '18.5%'),\n",
       "  Text(0.5037744031929936, -0.3259008295287741, '18.3%')])"
      ]
     },
     "execution_count": 27,
     "metadata": {},
     "output_type": "execute_result"
    },
    {
     "data": {
      "image/png": "[encoded data removed]",
      "text/plain": [
       "<Figure size 640x480 with 1 Axes>"
      ]
     },
     "metadata": {},
     "output_type": "display_data"
    }
   ],
   "source": [
    "dct_of_preference = df1['предпочтение'].value_counts(normalize=True).to_dict()\n",
    "\n",
    "fig, ax = plt.subplots()\n",
    "ax.pie(x=dct_of_preference.values(), \n",
    "       labels=dct_of_preference.keys(),\n",
    "       autopct='%1.1f%%'\n",
    "       )"
   ]
  },
  {
   "cell_type": "code",
   "execution_count": 28,
   "id": "7a00e234",
   "metadata": {},
   "outputs": [
    {
     "data": {
      "text/plain": [
       "([<matplotlib.patches.Wedge at 0x7f27ba3cdeb0>,\n",
       "  <matplotlib.patches.Wedge at 0x7f27ba3c5e20>],\n",
       " [Text(-0.0675019993078234, 1.0979269010683028, 'М'),\n",
       "  Text(0.06750222617472976, -1.0979268871202017, 'Ж')],\n",
       " [Text(-0.03681927234972185, 0.5988692187645287, '52.0%'),\n",
       "  Text(0.036819396095307134, -0.5988692111564735, '48.0%')])"
      ]
     },
     "execution_count": 28,
     "metadata": {},
     "output_type": "execute_result"
    },
    {
     "data": {
      "image/png": "[encoded data removed]",
      "text/plain": [
       "<Figure size 640x480 with 1 Axes>"
      ]
     },
     "metadata": {},
     "output_type": "display_data"
    }
   ],
   "source": [
    "dct_of_preference = df1['пол'].value_counts(normalize=True).to_dict()\n",
    "\n",
    "fig, ax = plt.subplots()\n",
    "ax.pie(x=dct_of_preference.values(), \n",
    "       labels=dct_of_preference.keys(),\n",
    "       autopct='%1.1f%%'\n",
    "       )"
   ]
  },
  {
   "cell_type": "markdown",
   "id": "7bc55457",
   "metadata": {},
   "source": [
    "# Преобразования"
   ]
  },
  {
   "cell_type": "markdown",
   "id": "eb58b509",
   "metadata": {},
   "source": [
    "## Преобразование в матрицу Пользователь-Оценки курсов"
   ]
  },
  {
   "cell_type": "code",
   "execution_count": 13,
   "id": "63cbdb9a",
   "metadata": {},
   "outputs": [
    {
     "data": {
      "text/html": [
       "<div>\n",
       "<style scoped>\n",
       "    .dataframe tbody tr th:only-of-type {\n",
       "        vertical-align: middle;\n",
       "    }\n",
       "\n",
       "    .dataframe tbody tr th {\n",
       "        vertical-align: top;\n",
       "    }\n",
       "\n",
       "    .dataframe thead th {\n",
       "        text-align: right;\n",
       "    }\n",
       "</style>\n",
       "<table border=\"1\" class=\"dataframe\">\n",
       "  <thead>\n",
       "    <tr style=\"text-align: right;\">\n",
       "      <th></th>\n",
       "      <th>user_id</th>\n",
       "      <th>item_id</th>\n",
       "      <th>оценка</th>\n",
       "    </tr>\n",
       "  </thead>\n",
       "  <tbody>\n",
       "    <tr>\n",
       "      <th>0</th>\n",
       "      <td>1</td>\n",
       "      <td>\"Поколение Python\": курс для начинающих</td>\n",
       "      <td>9</td>\n",
       "    </tr>\n",
       "    <tr>\n",
       "      <th>1</th>\n",
       "      <td>1</td>\n",
       "      <td>Дроби - 2в1 (Математика, 5 класс)</td>\n",
       "      <td>10</td>\n",
       "    </tr>\n",
       "    <tr>\n",
       "      <th>2</th>\n",
       "      <td>1</td>\n",
       "      <td>Практикум по математике и Python</td>\n",
       "      <td>9</td>\n",
       "    </tr>\n",
       "    <tr>\n",
       "      <th>3</th>\n",
       "      <td>1</td>\n",
       "      <td>ЕГЭ по математике 2025: первая часть</td>\n",
       "      <td>1</td>\n",
       "    </tr>\n",
       "    <tr>\n",
       "      <th>4</th>\n",
       "      <td>1</td>\n",
       "      <td>АА - Активный Английский от Екатерины Зак для ...</td>\n",
       "      <td>9</td>\n",
       "    </tr>\n",
       "    <tr>\n",
       "      <th>...</th>\n",
       "      <td>...</td>\n",
       "      <td>...</td>\n",
       "      <td>...</td>\n",
       "    </tr>\n",
       "    <tr>\n",
       "      <th>22788</th>\n",
       "      <td>2000</td>\n",
       "      <td>НТО Junior 22. ОК «Технологии и компьютерные и...</td>\n",
       "      <td>8</td>\n",
       "    </tr>\n",
       "    <tr>\n",
       "      <th>22789</th>\n",
       "      <td>2000</td>\n",
       "      <td>НТО Junior 23-24. ОК \"Технологии и компьютерны...</td>\n",
       "      <td>10</td>\n",
       "    </tr>\n",
       "    <tr>\n",
       "      <th>22790</th>\n",
       "      <td>2000</td>\n",
       "      <td>Продвинутый уровень на Python</td>\n",
       "      <td>1</td>\n",
       "    </tr>\n",
       "    <tr>\n",
       "      <th>22791</th>\n",
       "      <td>2000</td>\n",
       "      <td>Подготовка к ОГЭ по Математике от эксперта 2025</td>\n",
       "      <td>10</td>\n",
       "    </tr>\n",
       "    <tr>\n",
       "      <th>22792</th>\n",
       "      <td>2000</td>\n",
       "      <td>Математика (геометрия ОГЭ 1 часть) 2025 год</td>\n",
       "      <td>6</td>\n",
       "    </tr>\n",
       "  </tbody>\n",
       "</table>\n",
       "<p>22793 rows × 3 columns</p>\n",
       "</div>"
      ],
      "text/plain": [
       "       user_id                                            item_id  оценка\n",
       "0            1            \"Поколение Python\": курс для начинающих       9\n",
       "1            1                  Дроби - 2в1 (Математика, 5 класс)      10\n",
       "2            1                   Практикум по математике и Python       9\n",
       "3            1               ЕГЭ по математике 2025: первая часть       1\n",
       "4            1  АА - Активный Английский от Екатерины Зак для ...       9\n",
       "...        ...                                                ...     ...\n",
       "22788     2000  НТО Junior 22. ОК «Технологии и компьютерные и...       8\n",
       "22789     2000  НТО Junior 23-24. ОК \"Технологии и компьютерны...      10\n",
       "22790     2000                      Продвинутый уровень на Python       1\n",
       "22791     2000    Подготовка к ОГЭ по Математике от эксперта 2025      10\n",
       "22792     2000        Математика (геометрия ОГЭ 1 часть) 2025 год       6\n",
       "\n",
       "[22793 rows x 3 columns]"
      ]
     },
     "execution_count": 13,
     "metadata": {},
     "output_type": "execute_result"
    }
   ],
   "source": [
    "df_iterations = df1[['id', 'пройденные_курсы', 'оценка']].dropna().rename(columns={'пройденные_курсы': 'item_id', 'id': 'user_id'})\n",
    "df_iterations"
   ]
  },
  {
   "cell_type": "markdown",
   "id": "e774a5f9",
   "metadata": {},
   "source": [
    "# LithFM"
   ]
  },
  {
   "cell_type": "code",
   "execution_count": 8,
   "id": "d1f35644",
   "metadata": {},
   "outputs": [],
   "source": [
    "# Импортируем необходимые библиотеки\n",
    "import numpy as np\n",
    "import pandas as pd                                  # Работа с DataFrame\n",
    "from lightfm import LightFM                          # Основной класс модели\n",
    "from lightfm.data import Dataset                    # Класс для подготовки данных\n",
    "from lightfm.evaluation import precision_at_k       # Метрика качества\n",
    "from sklearn.model_selection import train_test_split\n",
    "from scipy.sparse import csr_matrix"
   ]
  },
  {
   "cell_type": "code",
   "execution_count": 9,
   "id": "e08ac8d9",
   "metadata": {},
   "outputs": [
    {
     "data": {
      "text/html": [
       "<div>\n",
       "<style scoped>\n",
       "    .dataframe tbody tr th:only-of-type {\n",
       "        vertical-align: middle;\n",
       "    }\n",
       "\n",
       "    .dataframe tbody tr th {\n",
       "        vertical-align: top;\n",
       "    }\n",
       "\n",
       "    .dataframe thead th {\n",
       "        text-align: right;\n",
       "    }\n",
       "</style>\n",
       "<table border=\"1\" class=\"dataframe\">\n",
       "  <thead>\n",
       "    <tr style=\"text-align: right;\">\n",
       "      <th></th>\n",
       "      <th>item_id</th>\n",
       "      <th>rating</th>\n",
       "      <th>Графический дизайн</th>\n",
       "      <th>Маркетинг и продажи</th>\n",
       "      <th>Математика</th>\n",
       "      <th>Разработка игр</th>\n",
       "      <th>Языки программирования</th>\n",
       "    </tr>\n",
       "  </thead>\n",
       "  <tbody>\n",
       "    <tr>\n",
       "      <th>0</th>\n",
       "      <td>\"Поколение Python\": курс для профессионалов</td>\n",
       "      <td>5.0</td>\n",
       "      <td>0</td>\n",
       "      <td>0</td>\n",
       "      <td>0</td>\n",
       "      <td>0</td>\n",
       "      <td>1</td>\n",
       "    </tr>\n",
       "    <tr>\n",
       "      <th>1</th>\n",
       "      <td>\"Поколение Python\": ООП</td>\n",
       "      <td>4.9</td>\n",
       "      <td>0</td>\n",
       "      <td>0</td>\n",
       "      <td>0</td>\n",
       "      <td>0</td>\n",
       "      <td>1</td>\n",
       "    </tr>\n",
       "    <tr>\n",
       "      <th>2</th>\n",
       "      <td>Асинхронность в Python. Asyncio</td>\n",
       "      <td>5.0</td>\n",
       "      <td>0</td>\n",
       "      <td>0</td>\n",
       "      <td>0</td>\n",
       "      <td>0</td>\n",
       "      <td>1</td>\n",
       "    </tr>\n",
       "  </tbody>\n",
       "</table>\n",
       "</div>"
      ],
      "text/plain": [
       "                                       item_id  rating  Графический дизайн  \\\n",
       "0  \"Поколение Python\": курс для профессионалов     5.0                   0   \n",
       "1                      \"Поколение Python\": ООП     4.9                   0   \n",
       "2              Асинхронность в Python. Asyncio     5.0                   0   \n",
       "\n",
       "   Маркетинг и продажи  Математика  Разработка игр  Языки программирования  \n",
       "0                    0           0               0                       1  \n",
       "1                    0           0               0                       1  \n",
       "2                    0           0               0                       1  "
      ]
     },
     "execution_count": 9,
     "metadata": {},
     "output_type": "execute_result"
    }
   ],
   "source": [
    "df_items.head(3)"
   ]
  },
  {
   "cell_type": "code",
   "execution_count": 14,
   "id": "9fa1778e",
   "metadata": {},
   "outputs": [
    {
     "name": "stdout",
     "output_type": "stream",
     "text": [
      "Средняя точность: 0.12\n"
     ]
    }
   ],
   "source": [
    "train_df, test_df = train_test_split(df_iterations, test_size=0.2, random_state=42)\n",
    "\n",
    "dataset = Dataset()\n",
    "\n",
    "users = df_iterations['user_id'].unique().tolist()\n",
    "items = df_iterations['item_id'].unique().tolist()\n",
    "\n",
    "# Формируем признаки в формате кортежей\n",
    "user_features = []\n",
    "for _, row in df_users.iterrows():\n",
    "    # Оформление в абсолютно дебильный формат LightFM НЕНАВИЖУ ЕГО\n",
    "    features = [f\"пол:{row['пол']}\",  \n",
    "                f\"Графический дизайн:{row['Графический дизайн']}\",\n",
    "                f\"Маркетинг и продажи:{row['Маркетинг и продажи']}\",\n",
    "                f\"Математика:{row['Математика']}\",\n",
    "                f\"Разработка игр:{row['Разработка игр']}\",\n",
    "                f\"Языки программирования:{row['Языки программирования']}\"]\n",
    "    user_features.append((row['user_id'], features))\n",
    "\n",
    "\n",
    "item_features = []\n",
    "for _, row in df_items.iterrows():\n",
    "    # Оформление в абсолютно дебильный формат LightFM НЕНАВИЖУ ЕГО\n",
    "    features = [f\"rating:{row['rating']}\",  \n",
    "                f\"Графический дизайн:{row['Графический дизайн']}\",\n",
    "                f\"Маркетинг и продажи:{row['Маркетинг и продажи']}\",\n",
    "                f\"Математика:{row['Математика']}\",\n",
    "                f\"Разработка игр:{row['Разработка игр']}\",\n",
    "                f\"Языки программирования:{row['Языки программирования']}\"]\n",
    "    item_features.append((row['item_id'], features))\n",
    "\n",
    "\n",
    "# Обучаем датасет - НА САМОМ ДЕЛЕ КОДИРУЕМ ВСЮ ЭТУ ШНЯГУ, которая была выше\n",
    "dataset.fit(users, items,\n",
    "            user_features=[f for _, feats in user_features for f in feats],\n",
    "            item_features=[f for _, feats in item_features for f in feats])\n",
    "\n",
    "# Построение взаимодействий\n",
    "train_interactions = list(train_df.itertuples(index=False, name=None))\n",
    "test_interactions = list(test_df.itertuples(index=False, name=None))\n",
    "\n",
    "# Создание спарс матриц \n",
    "(train_matrix, _) = dataset.build_interactions(((u, i, r) for u, i, r in train_interactions))\n",
    "(test_matrix, _) = dataset.build_interactions(((u, i, r) for u, i, r in test_interactions))\n",
    "\n",
    "# 4. Строим матрицы признаков\n",
    "user_features_matrix = dataset.build_user_features(user_features)\n",
    "item_features_matrix = dataset.build_item_features(item_features)\n",
    "\n",
    "# 5. Инициализация модели LightFM\n",
    "model = LightFM(loss='warp')\n",
    "\n",
    "# 6. Обучение модели с признаками\n",
    "model.fit(train_matrix, user_features=user_features_matrix, item_features=item_features_matrix, epochs=10, num_threads=1)\n",
    "\n",
    "# 7. Оценка модели\n",
    "score = precision_at_k(model, test_matrix, user_features=user_features_matrix, item_features=item_features_matrix, k=10).mean()\n",
    "print(f\"Средняя точность: {score:.2f}\")"
   ]
  },
  {
   "cell_type": "markdown",
   "id": "09bd5620",
   "metadata": {},
   "source": [
    "### Входные данные на примере нового юзера"
   ]
  },
  {
   "cell_type": "code",
   "execution_count": 99,
   "id": "6c816c05",
   "metadata": {},
   "outputs": [
    {
     "data": {
      "text/html": [
       "<div>\n",
       "<style scoped>\n",
       "    .dataframe tbody tr th:only-of-type {\n",
       "        vertical-align: middle;\n",
       "    }\n",
       "\n",
       "    .dataframe tbody tr th {\n",
       "        vertical-align: top;\n",
       "    }\n",
       "\n",
       "    .dataframe thead th {\n",
       "        text-align: right;\n",
       "    }\n",
       "</style>\n",
       "<table border=\"1\" class=\"dataframe\">\n",
       "  <thead>\n",
       "    <tr style=\"text-align: right;\">\n",
       "      <th></th>\n",
       "      <th>user_id</th>\n",
       "      <th>пол</th>\n",
       "      <th>возраст</th>\n",
       "      <th>Графический дизайн</th>\n",
       "      <th>Маркетинг и продажи</th>\n",
       "      <th>Математика</th>\n",
       "      <th>Разработка игр</th>\n",
       "      <th>Языки программирования</th>\n",
       "    </tr>\n",
       "  </thead>\n",
       "  <tbody>\n",
       "    <tr>\n",
       "      <th>0</th>\n",
       "      <td>1</td>\n",
       "      <td>1</td>\n",
       "      <td>26</td>\n",
       "      <td>0</td>\n",
       "      <td>0</td>\n",
       "      <td>1</td>\n",
       "      <td>0</td>\n",
       "      <td>0</td>\n",
       "    </tr>\n",
       "  </tbody>\n",
       "</table>\n",
       "</div>"
      ],
      "text/plain": [
       "   user_id  пол  возраст  Графический дизайн  Маркетинг и продажи  Математика  \\\n",
       "0        1    1       26                   0                    0           1   \n",
       "\n",
       "   Разработка игр  Языки программирования  \n",
       "0               0                       0  "
      ]
     },
     "execution_count": 99,
     "metadata": {},
     "output_type": "execute_result"
    }
   ],
   "source": [
    "df_users.head(1)"
   ]
  },
  {
   "cell_type": "code",
   "execution_count": 17,
   "id": "587bfdea",
   "metadata": {},
   "outputs": [],
   "source": [
    "# Новые профиль по шаблону абсолютно ДЕБИЛЬНОМУ если честно\n",
    "new_profile = [f\"пол:1\",  \n",
    "                f\"Графический дизайн:1\",\n",
    "                f\"Маркетинг и продажи:0\",\n",
    "                f\"Математика:1\",\n",
    "                f\"Разработка игр:1\",\n",
    "                f\"Языки программирования:1\"]\n",
    "\n",
    "\n",
    "mapping = dataset.mapping()              # получаем все отображения: users, items, features и т.д.\n",
    "user_feature_map = mapping[1]            # берем отображение признаков пользователей\n",
    "\n",
    "# 12. Преобразуем строковые признаки в числовые ID\n",
    "feature_ids = [user_feature_map[f] for f in new_profile]  # перевели признаки в индексы\n",
    "feature_ids\n",
    "\n",
    "\n",
    "\n",
    "data = np.ones(len(feature_ids))                       # все веса по 1.0\n",
    "rows = np.zeros(len(feature_ids))                      # одна строка, значит row = 0\n",
    "cols = feature_ids                                     # признаки располагаются в этих колонках\n",
    "new_user_matrix = csr_matrix((data, (rows, cols)), shape=(1, user_features_matrix.shape[1]))"
   ]
  },
  {
   "cell_type": "code",
   "execution_count": 18,
   "id": "991b2e0f",
   "metadata": {},
   "outputs": [
    {
     "name": "stdout",
     "output_type": "stream",
     "text": [
      "Рекомендации для нового пользователя: ['\"Поколение Python\": курс для начинающих', '\"Поколение Python\": курс для профессионалов', 'Основы языка Java']\n"
     ]
    }
   ],
   "source": [
    "# 14. Предсказание интереса ко всем предметам для нового пользователя\n",
    "n_items = item_features_matrix.shape[0]                # количество курсов\n",
    "scores = model.predict(                                # получаем предсказания по dot product\n",
    "    user_ids=0,                                        # т.к. new_user_matrix имеет одну строку — индекс 0\n",
    "    item_ids=np.arange(n_items),\n",
    "    user_features=new_user_matrix,\n",
    "    item_features=item_features_matrix\n",
    ")\n",
    "\n",
    "# 15. Сортируем и выбираем топ-N рекомендаций\n",
    "# np.argsort возвращает индексы по убыванию значений\n",
    "recommended_indices = np.argsort(-scores)[:3]          # берём топ-3 курса\n",
    "print(\"Рекомендации для нового пользователя:\", [items[i] for i in recommended_indices])"
   ]
  },
  {
   "cell_type": "markdown",
   "id": "07609ac6",
   "metadata": {},
   "source": [
    "## Упаковка модели"
   ]
  },
  {
   "cell_type": "code",
   "execution_count": 20,
   "id": "822b2204",
   "metadata": {},
   "outputs": [],
   "source": [
    "import pickle\n",
    "\n",
    "with open('lightfm_model.pkl', 'wb') as f:\n",
    "    pickle.dump({\n",
    "        'model': model,\n",
    "        'dataset': dataset,\n",
    "        'user_features_matrix': user_features_matrix,\n",
    "        'item_features_matrix': item_features_matrix,\n",
    "        'items': items\n",
    "    }, f)"
   ]
  },
  {
   "cell_type": "markdown",
   "id": "4ce1ef44",
   "metadata": {},
   "source": [
    "# Учебный LigthFM"
   ]
  },
  {
   "cell_type": "code",
   "execution_count": 113,
   "id": "2e237d01",
   "metadata": {},
   "outputs": [],
   "source": [
    "# Импортируем необходимые библиотеки\n",
    "import numpy as np\n",
    "import pandas as pd                                  # Работа с DataFrame\n",
    "from lightfm import LightFM                          # Основной класс модели\n",
    "from lightfm.data import Dataset                    # Класс для подготовки данных\n",
    "from lightfm.evaluation import precision_at_k       # Метрика качества\n",
    "from sklearn.model_selection import train_test_split\n",
    "\n",
    "# 1. Подготовка данных с оценками и признаками\n",
    "# Взаимодействия содержат рейтинг (оценку)\n",
    "data = pd.DataFrame({\n",
    "    \"user\": [\"user1\", \"user1\", \"user2\", \"user3\", \"user3\"],\n",
    "    \"item\": [\"item1\", \"item2\", \"item3\", \"item1\", \"item3\"],\n",
    "    \"rating\": [1.0, 0.5, 1.0, 1.0, 0.2]  # Пример шкалы интереса\n",
    "})\n",
    "\n",
    "# Разделим на тренировочный и тестовый наборы\n",
    "train_data, test_data = train_test_split(data, test_size=0.4, random_state=42)\n",
    "\n",
    "# Признаки пользователей\n",
    "user_features_df = pd.DataFrame({\n",
    "    \"user\": [\"user1\", \"user2\", \"user3\"],\n",
    "    \"age_group\": [\"young\", \"middle\", \"young\"],\n",
    "    \"location\": [\"US\", \"EU\", \"US\"]\n",
    "})\n",
    "\n",
    "# Признаки предметов\n",
    "item_features_df = pd.DataFrame({\n",
    "    \"item\": [\"item1\", \"item2\", \"item3\"],\n",
    "    \"category\": [\"book\", \"movie\", \"book\"],\n",
    "    \"genre\": [\"fiction\", \"comedy\", \"non-fiction\"]\n",
    "})\n"
   ]
  },
  {
   "cell_type": "code",
   "execution_count": 137,
   "id": "16e9a1e6",
   "metadata": {},
   "outputs": [
    {
     "data": {
      "text/plain": [
       "[('user1', ['age_group:young', 'location:US']),\n",
       " ('user2', ['age_group:middle', 'location:EU']),\n",
       " ('user3', ['age_group:young', 'location:US'])]"
      ]
     },
     "execution_count": 137,
     "metadata": {},
     "output_type": "execute_result"
    }
   ],
   "source": [
    "# Получаем списки пользователей и предметов\n",
    "users = data[\"user\"].unique().tolist()\n",
    "items = data[\"item\"].unique().tolist()\n",
    "\n",
    "user_features = []\n",
    "\n",
    "# Формируем признаки в формате списков кортежей (entity, feature)\n",
    "for _, row in user_features_df.iterrows():\n",
    "    features = [f\"age_group:{row['age_group']}\", f\"location:{row['location']}\"]\n",
    "    user_features.append((row[\"user\"], features))\n",
    "\n",
    "item_features = []\n",
    "for _, row in item_features_df.iterrows():\n",
    "    features = [f\"category:{row['category']}\", f\"genre:{row['genre']}\"]\n",
    "    item_features.append((row[\"item\"], features))\n",
    "\n",
    "user_features"
   ]
  },
  {
   "cell_type": "code",
   "execution_count": 138,
   "id": "482e47bf",
   "metadata": {},
   "outputs": [
    {
     "data": {
      "text/plain": [
       "['age_group:young',\n",
       " 'location:US',\n",
       " 'age_group:middle',\n",
       " 'location:EU',\n",
       " 'age_group:young',\n",
       " 'location:US']"
      ]
     },
     "execution_count": 138,
     "metadata": {},
     "output_type": "execute_result"
    }
   ],
   "source": [
    "[f for _, feats in user_features for f in feats]"
   ]
  },
  {
   "cell_type": "code",
   "execution_count": 139,
   "id": "4bcc427a",
   "metadata": {},
   "outputs": [],
   "source": [
    "# 2. Создание Dataset с признаками\n",
    "# fit теперь включает в себя и признаки пользователей и предметов\n",
    "dataset = Dataset()\n",
    "dataset.fit(users, items,\n",
    "            user_features=[f for _, feats in user_features for f in feats],\n",
    "            item_features=[f for _, feats in item_features for f in feats])\n",
    "\n"
   ]
  },
  {
   "cell_type": "code",
   "execution_count": 140,
   "id": "bc6d8252",
   "metadata": {},
   "outputs": [
    {
     "data": {
      "text/plain": [
       "{'user1': 0,\n",
       " 'user2': 1,\n",
       " 'user3': 2,\n",
       " 'age_group:young': 3,\n",
       " 'location:US': 4,\n",
       " 'age_group:middle': 5,\n",
       " 'location:EU': 6}"
      ]
     },
     "execution_count": 140,
     "metadata": {},
     "output_type": "execute_result"
    }
   ],
   "source": [
    "mapping = dataset.mapping()              # получаем все отображения: users, items, features и т.д.\n",
    "user_feature_map = mapping[1]            # берем отображение признаков пользователей\n",
    "user_feature_map"
   ]
  },
  {
   "cell_type": "code",
   "execution_count": 63,
   "id": "8291f546",
   "metadata": {},
   "outputs": [
    {
     "data": {
      "text/plain": [
       "[('user1', 'item2', 0.5), ('user3', 'item3', 0.2)]"
      ]
     },
     "execution_count": 63,
     "metadata": {},
     "output_type": "execute_result"
    }
   ],
   "source": [
    "# 3. Строим взаимодействия: отдельно train и test\n",
    "train_interactions = list(train_data.itertuples(index=False, name=None))\n",
    "test_interactions = list(test_data.itertuples(index=False, name=None))\n",
    "\n",
    "test_interactions"
   ]
  },
  {
   "cell_type": "code",
   "execution_count": null,
   "id": "0d9429a4",
   "metadata": {},
   "outputs": [],
   "source": [
    "(train_matrix, _) = dataset.build_interactions(((u, i, r) for u, i, r in train_interactions))\n",
    "(test_matrix, _) = dataset.build_interactions(((u, i, r) for u, i, r in test_interactions))\n",
    "\n",
    "# 4. Строим матрицы признаков\n",
    "user_features_matrix = dataset.build_user_features(user_features)\n",
    "item_features_matrix = dataset.build_item_features(item_features)\n",
    "\n",
    "# 5. Инициализация модели LightFM\n",
    "model = LightFM(loss='warp')\n",
    "\n",
    "# 6. Обучение модели с признаками\n",
    "model.fit(train_matrix, user_features=user_features_matrix, item_features=item_features_matrix, epochs=10, num_threads=1)\n",
    "\n",
    "# 7. Оценка модели\n",
    "score = precision_at_k(model, test_matrix, user_features=user_features_matrix, item_features=item_features_matrix, k=2).mean()\n",
    "print(f\"Средняя точность: {score:.2f}\")\n",
    "\n",
    "# 8. Предсказания для пользователя\n",
    "user_id = 0  # user1\n",
    "n_items = train_matrix.shape[1]\n",
    "scores = model.predict(user_id, np.arange(n_items), user_features=user_features_matrix, item_features=item_features_matrix)\n",
    "print(\"Предсказанные оценки:\", scores)\n",
    "\n",
    "\n",
    "# 9. Рекомендуем топ-N\n",
    "top_items = np.argsort(-scores)[:2]\n",
    "print(\"Рекомендуемые предметы:\", [items[i] for i in top_items])"
   ]
  },
  {
   "cell_type": "code",
   "execution_count": 47,
   "id": "cca55d19",
   "metadata": {},
   "outputs": [],
   "source": [
    "# ДОБАВЛЕНО: cold-start — рекомендации для нового пользователя с признаками\n",
    "\n",
    "# 10. Определим профиль нового пользователя\n",
    "# Предположим, что он молодой пользователь из Европы\n",
    "new_user_profile = [\"age_group:young\", \"location:EU\"]  # признаки уже известны модели из этапа fit\n",
    "\n",
    "# 11. Получим словарь признаков из dataset (это mapping[3] — user feature → ID)\n",
    "mapping = dataset.mapping()              # получаем все отображения: users, items, features и т.д.\n",
    "user_feature_map = mapping[1]            # берем отображение признаков пользователей"
   ]
  },
  {
   "cell_type": "code",
   "execution_count": 51,
   "id": "26561f78",
   "metadata": {},
   "outputs": [],
   "source": [
    "# 12. Преобразуем строковые признаки в числовые ID\n",
    "feature_ids = [user_feature_map[f] for f in new_user_profile]  # перевели признаки в индексы\n",
    "feature_ids\n",
    "\n",
    "# 13. Создаем разреженную матрицу признаков для нового пользователя (размер 1 x n_features)\n",
    "# В этой матрице только одна строка — и в ней единицы на местах признаков нового пользователя\n",
    "from scipy.sparse import csr_matrix\n",
    "\n",
    "data = np.ones(len(feature_ids))                       # все веса по 1.0\n",
    "rows = np.zeros(len(feature_ids))                      # одна строка, значит row = 0\n",
    "cols = feature_ids                                     # признаки располагаются в этих колонках\n",
    "new_user_matrix = csr_matrix((data, (rows, cols)), shape=(1, user_features_matrix.shape[1]))"
   ]
  },
  {
   "cell_type": "code",
   "execution_count": null,
   "id": "a038f5dd",
   "metadata": {},
   "outputs": [],
   "source": []
  },
  {
   "cell_type": "code",
   "execution_count": null,
   "id": "81b4d826",
   "metadata": {},
   "outputs": [
    {
     "name": "stdout",
     "output_type": "stream",
     "text": [
      "Рекомендации для нового пользователя: ['item1', 'item3', 'item2']\n"
     ]
    }
   ],
   "source": [
    "# 14. Предсказание интереса ко всем предметам для нового пользователя\n",
    "n_items = item_features_matrix.shape[0]                # количество курсов\n",
    "scores = model.predict(                                # получаем предсказания по dot product\n",
    "    user_ids=0,                                        # т.к. new_user_matrix имеет одну строку — индекс 0\n",
    "    item_ids=np.arange(n_items),\n",
    "    user_features=new_user_matrix,\n",
    "    item_features=item_features_matrix\n",
    ")\n",
    "\n",
    "# 15. Сортируем и выбираем топ-N рекомендаций\n",
    "# np.argsort возвращает индексы по убыванию значений\n",
    "recommended_indices = np.argsort(-scores)[:3]          # берём топ-3 курса\n",
    "print(\"Рекомендации для нового пользователя:\", [items[i] for i in recommended_indices])\n",
    "\n",
    "\n",
    "\n",
    "\n",
    "\n"
   ]
  },
  {
   "cell_type": "code",
   "execution_count": null,
   "id": "299ebe01",
   "metadata": {},
   "outputs": [
    {
     "data": {
      "text/plain": [
       "<lightfm.lightfm.LightFM at 0x7fe7eb2f1190>"
      ]
     },
     "execution_count": 13,
     "metadata": {},
     "output_type": "execute_result"
    }
   ],
   "source": [
    "\n",
    "\n",
    "\n",
    "\n"
   ]
  },
  {
   "cell_type": "code",
   "execution_count": null,
   "id": "b81c1ac2",
   "metadata": {},
   "outputs": [
    {
     "name": "stdout",
     "output_type": "stream",
     "text": [
      "Средняя точность: 0.25\n"
     ]
    }
   ],
   "source": [
    "\n"
   ]
  },
  {
   "cell_type": "code",
   "execution_count": null,
   "id": "c512c3c7",
   "metadata": {},
   "outputs": [
    {
     "name": "stdout",
     "output_type": "stream",
     "text": [
      "Предсказанные оценки: [-0.05796642 -0.26290572 -0.13226777]\n"
     ]
    }
   ],
   "source": [
    "\n",
    "\n",
    "\n"
   ]
  },
  {
   "cell_type": "code",
   "execution_count": null,
   "id": "4f3f2ee9",
   "metadata": {},
   "outputs": [
    {
     "name": "stdout",
     "output_type": "stream",
     "text": [
      "Рекомендуемые предметы: ['item1', 'item3']\n"
     ]
    }
   ],
   "source": []
  },
  {
   "cell_type": "code",
   "execution_count": 23,
   "id": "7b8a3fbf",
   "metadata": {},
   "outputs": [
    {
     "ename": "ValueError",
     "evalue": "user id user_new not in user id mappings.",
     "output_type": "error",
     "traceback": [
      "\u001b[31m---------------------------------------------------------------------------\u001b[39m",
      "\u001b[31mValueError\u001b[39m                                Traceback (most recent call last)",
      "\u001b[36mCell\u001b[39m\u001b[36m \u001b[39m\u001b[32mIn[23]\u001b[39m\u001b[32m, line 6\u001b[39m\n\u001b[32m      3\u001b[39m new_user_feats = [(new_user_id, [\u001b[33m\"\u001b[39m\u001b[33mage_group:young\u001b[39m\u001b[33m\"\u001b[39m, \u001b[33m\"\u001b[39m\u001b[33mlocation:EU\u001b[39m\u001b[33m\"\u001b[39m])]\n\u001b[32m      5\u001b[39m \u001b[38;5;66;03m# 1. Строим user_features только для него\u001b[39;00m\n\u001b[32m----> \u001b[39m\u001b[32m6\u001b[39m new_user_matrix = \u001b[43mdataset\u001b[49m\u001b[43m.\u001b[49m\u001b[43mbuild_user_features\u001b[49m\u001b[43m(\u001b[49m\u001b[43mnew_user_feats\u001b[49m\u001b[43m)\u001b[49m\n",
      "\u001b[36mFile \u001b[39m\u001b[32m~/.pyenv/versions/rec_System/lib/python3.11/site-packages/lightfm/data.py:376\u001b[39m, in \u001b[36mDataset.build_user_features\u001b[39m\u001b[34m(self, data, normalize)\u001b[39m\n\u001b[32m    346\u001b[39m \u001b[38;5;250m\u001b[39m\u001b[33;03m\"\"\"\u001b[39;00m\n\u001b[32m    347\u001b[39m \u001b[33;03mBuild a user features matrix out of an iterable of the form\u001b[39;00m\n\u001b[32m    348\u001b[39m \u001b[33;03m(user id, [list of feature names]) or (user id, {feature name: feature weight}).\u001b[39;00m\n\u001b[32m   (...)\u001b[39m\u001b[32m    365\u001b[39m \u001b[33;03m    Matrix of user features.\u001b[39;00m\n\u001b[32m    366\u001b[39m \u001b[33;03m\"\"\"\u001b[39;00m\n\u001b[32m    368\u001b[39m builder = _FeatureBuilder(\n\u001b[32m    369\u001b[39m     \u001b[38;5;28mself\u001b[39m._user_id_mapping,\n\u001b[32m    370\u001b[39m     \u001b[38;5;28mself\u001b[39m._user_feature_mapping,\n\u001b[32m   (...)\u001b[39m\u001b[32m    373\u001b[39m     \u001b[33m\"\u001b[39m\u001b[33muser\u001b[39m\u001b[33m\"\u001b[39m,\n\u001b[32m    374\u001b[39m )\n\u001b[32m--> \u001b[39m\u001b[32m376\u001b[39m \u001b[38;5;28;01mreturn\u001b[39;00m \u001b[43mbuilder\u001b[49m\u001b[43m.\u001b[49m\u001b[43mbuild\u001b[49m\u001b[43m(\u001b[49m\u001b[43mdata\u001b[49m\u001b[43m)\u001b[49m\n",
      "\u001b[36mFile \u001b[39m\u001b[32m~/.pyenv/versions/rec_System/lib/python3.11/site-packages/lightfm/data.py:119\u001b[39m, in \u001b[36m_FeatureBuilder.build\u001b[39m\u001b[34m(self, data)\u001b[39m\n\u001b[32m    116\u001b[39m         features.append(idx, \u001b[38;5;28mself\u001b[39m._feature_mapping[_id], \u001b[32m1.0\u001b[39m)\n\u001b[32m    118\u001b[39m \u001b[38;5;28;01mfor\u001b[39;00m datum \u001b[38;5;129;01min\u001b[39;00m data:\n\u001b[32m--> \u001b[39m\u001b[32m119\u001b[39m \u001b[43m    \u001b[49m\u001b[38;5;28;43;01mfor\u001b[39;49;00m\u001b[43m \u001b[49m\u001b[43m(\u001b[49m\u001b[43mentity_idx\u001b[49m\u001b[43m,\u001b[49m\u001b[43m \u001b[49m\u001b[43mfeature_idx\u001b[49m\u001b[43m,\u001b[49m\u001b[43m \u001b[49m\u001b[43mweight\u001b[49m\u001b[43m)\u001b[49m\u001b[43m \u001b[49m\u001b[38;5;129;43;01min\u001b[39;49;00m\u001b[43m \u001b[49m\u001b[38;5;28;43mself\u001b[39;49m\u001b[43m.\u001b[49m\u001b[43m_process_features\u001b[49m\u001b[43m(\u001b[49m\u001b[43mdatum\u001b[49m\u001b[43m)\u001b[49m\u001b[43m:\u001b[49m\n\u001b[32m    120\u001b[39m \u001b[43m        \u001b[49m\u001b[43mfeatures\u001b[49m\u001b[43m.\u001b[49m\u001b[43mappend\u001b[49m\u001b[43m(\u001b[49m\u001b[43mentity_idx\u001b[49m\u001b[43m,\u001b[49m\u001b[43m \u001b[49m\u001b[43mfeature_idx\u001b[49m\u001b[43m,\u001b[49m\u001b[43m \u001b[49m\u001b[43mweight\u001b[49m\u001b[43m)\u001b[49m\n\u001b[32m    122\u001b[39m features = features.tocoo().tocsr()\n",
      "\u001b[36mFile \u001b[39m\u001b[32m~/.pyenv/versions/rec_System/lib/python3.11/site-packages/lightfm/data.py:91\u001b[39m, in \u001b[36m_FeatureBuilder._process_features\u001b[39m\u001b[34m(self, datum)\u001b[39m\n\u001b[32m     88\u001b[39m entity_id, features = datum\n\u001b[32m     90\u001b[39m \u001b[38;5;28;01mif\u001b[39;00m entity_id \u001b[38;5;129;01mnot\u001b[39;00m \u001b[38;5;129;01min\u001b[39;00m \u001b[38;5;28mself\u001b[39m._id_mapping:\n\u001b[32m---> \u001b[39m\u001b[32m91\u001b[39m     \u001b[38;5;28;01mraise\u001b[39;00m \u001b[38;5;167;01mValueError\u001b[39;00m(\n\u001b[32m     92\u001b[39m         \u001b[33m\"\u001b[39m\u001b[38;5;132;01m{entity_type}\u001b[39;00m\u001b[33m id \u001b[39m\u001b[38;5;132;01m{entity_id}\u001b[39;00m\u001b[33m not in \u001b[39m\u001b[38;5;132;01m{entity_type}\u001b[39;00m\u001b[33m id mappings.\u001b[39m\u001b[33m\"\u001b[39m.format(\n\u001b[32m     93\u001b[39m             entity_type=\u001b[38;5;28mself\u001b[39m._entity_type, entity_id=entity_id\n\u001b[32m     94\u001b[39m         )\n\u001b[32m     95\u001b[39m     )\n\u001b[32m     97\u001b[39m idx = \u001b[38;5;28mself\u001b[39m._id_mapping[entity_id]\n\u001b[32m     99\u001b[39m \u001b[38;5;28;01mfor\u001b[39;00m (feature, weight) \u001b[38;5;129;01min\u001b[39;00m \u001b[38;5;28mself\u001b[39m._iter_features(features):\n",
      "\u001b[31mValueError\u001b[39m: user id user_new not in user id mappings."
     ]
    }
   ],
   "source": [
    "# Новый пользователь, которого не было в обучении\n",
    "new_user_id = \"user_new\"\n",
    "new_user_feats = [(new_user_id, [\"age_group:young\", \"location:EU\"])]\n",
    "\n",
    "# 1. Строим user_features только для него\n",
    "new_user_matrix = dataset.build_user_features(new_user_feats)"
   ]
  },
  {
   "cell_type": "markdown",
   "id": "bceea7a9",
   "metadata": {},
   "source": [
    "# RecTools"
   ]
  },
  {
   "cell_type": "markdown",
   "id": "b2fcafaf",
   "metadata": {},
   "source": [
    "url: https://habr.com/ru/articles/773126/"
   ]
  },
  {
   "cell_type": "markdown",
   "id": "deb511ab",
   "metadata": {},
   "source": [
    "## Подготовка данных к моделям"
   ]
  },
  {
   "cell_type": "code",
   "execution_count": 9,
   "id": "1646a8fe",
   "metadata": {},
   "outputs": [
    {
     "data": {
      "text/html": [
       "<div>\n",
       "<style scoped>\n",
       "    .dataframe tbody tr th:only-of-type {\n",
       "        vertical-align: middle;\n",
       "    }\n",
       "\n",
       "    .dataframe tbody tr th {\n",
       "        vertical-align: top;\n",
       "    }\n",
       "\n",
       "    .dataframe thead th {\n",
       "        text-align: right;\n",
       "    }\n",
       "</style>\n",
       "<table border=\"1\" class=\"dataframe\">\n",
       "  <thead>\n",
       "    <tr style=\"text-align: right;\">\n",
       "      <th></th>\n",
       "      <th>id</th>\n",
       "      <th>пол</th>\n",
       "      <th>возраст</th>\n",
       "      <th>Графический дизайн</th>\n",
       "      <th>Маркетинг и продажи</th>\n",
       "      <th>Математика</th>\n",
       "      <th>Разработка игр</th>\n",
       "      <th>Языки программирования</th>\n",
       "    </tr>\n",
       "  </thead>\n",
       "  <tbody>\n",
       "    <tr>\n",
       "      <th>0</th>\n",
       "      <td>1</td>\n",
       "      <td>1</td>\n",
       "      <td>26</td>\n",
       "      <td>0</td>\n",
       "      <td>0</td>\n",
       "      <td>1</td>\n",
       "      <td>0</td>\n",
       "      <td>0</td>\n",
       "    </tr>\n",
       "    <tr>\n",
       "      <th>1</th>\n",
       "      <td>1</td>\n",
       "      <td>1</td>\n",
       "      <td>26</td>\n",
       "      <td>0</td>\n",
       "      <td>0</td>\n",
       "      <td>1</td>\n",
       "      <td>0</td>\n",
       "      <td>0</td>\n",
       "    </tr>\n",
       "    <tr>\n",
       "      <th>2</th>\n",
       "      <td>1</td>\n",
       "      <td>1</td>\n",
       "      <td>26</td>\n",
       "      <td>0</td>\n",
       "      <td>0</td>\n",
       "      <td>1</td>\n",
       "      <td>0</td>\n",
       "      <td>0</td>\n",
       "    </tr>\n",
       "    <tr>\n",
       "      <th>3</th>\n",
       "      <td>1</td>\n",
       "      <td>1</td>\n",
       "      <td>26</td>\n",
       "      <td>0</td>\n",
       "      <td>0</td>\n",
       "      <td>1</td>\n",
       "      <td>0</td>\n",
       "      <td>0</td>\n",
       "    </tr>\n",
       "    <tr>\n",
       "      <th>4</th>\n",
       "      <td>1</td>\n",
       "      <td>1</td>\n",
       "      <td>26</td>\n",
       "      <td>0</td>\n",
       "      <td>0</td>\n",
       "      <td>1</td>\n",
       "      <td>0</td>\n",
       "      <td>0</td>\n",
       "    </tr>\n",
       "    <tr>\n",
       "      <th>...</th>\n",
       "      <td>...</td>\n",
       "      <td>...</td>\n",
       "      <td>...</td>\n",
       "      <td>...</td>\n",
       "      <td>...</td>\n",
       "      <td>...</td>\n",
       "      <td>...</td>\n",
       "      <td>...</td>\n",
       "    </tr>\n",
       "    <tr>\n",
       "      <th>22788</th>\n",
       "      <td>2000</td>\n",
       "      <td>1</td>\n",
       "      <td>21</td>\n",
       "      <td>0</td>\n",
       "      <td>0</td>\n",
       "      <td>0</td>\n",
       "      <td>1</td>\n",
       "      <td>0</td>\n",
       "    </tr>\n",
       "    <tr>\n",
       "      <th>22789</th>\n",
       "      <td>2000</td>\n",
       "      <td>1</td>\n",
       "      <td>21</td>\n",
       "      <td>0</td>\n",
       "      <td>0</td>\n",
       "      <td>0</td>\n",
       "      <td>1</td>\n",
       "      <td>0</td>\n",
       "    </tr>\n",
       "    <tr>\n",
       "      <th>22790</th>\n",
       "      <td>2000</td>\n",
       "      <td>1</td>\n",
       "      <td>21</td>\n",
       "      <td>0</td>\n",
       "      <td>0</td>\n",
       "      <td>0</td>\n",
       "      <td>1</td>\n",
       "      <td>0</td>\n",
       "    </tr>\n",
       "    <tr>\n",
       "      <th>22791</th>\n",
       "      <td>2000</td>\n",
       "      <td>1</td>\n",
       "      <td>21</td>\n",
       "      <td>0</td>\n",
       "      <td>0</td>\n",
       "      <td>0</td>\n",
       "      <td>1</td>\n",
       "      <td>0</td>\n",
       "    </tr>\n",
       "    <tr>\n",
       "      <th>22792</th>\n",
       "      <td>2000</td>\n",
       "      <td>1</td>\n",
       "      <td>21</td>\n",
       "      <td>0</td>\n",
       "      <td>0</td>\n",
       "      <td>0</td>\n",
       "      <td>1</td>\n",
       "      <td>0</td>\n",
       "    </tr>\n",
       "  </tbody>\n",
       "</table>\n",
       "<p>22793 rows × 8 columns</p>\n",
       "</div>"
      ],
      "text/plain": [
       "         id  пол  возраст  Графический дизайн  Маркетинг и продажи  \\\n",
       "0         1    1       26                   0                    0   \n",
       "1         1    1       26                   0                    0   \n",
       "2         1    1       26                   0                    0   \n",
       "3         1    1       26                   0                    0   \n",
       "4         1    1       26                   0                    0   \n",
       "...     ...  ...      ...                 ...                  ...   \n",
       "22788  2000    1       21                   0                    0   \n",
       "22789  2000    1       21                   0                    0   \n",
       "22790  2000    1       21                   0                    0   \n",
       "22791  2000    1       21                   0                    0   \n",
       "22792  2000    1       21                   0                    0   \n",
       "\n",
       "       Математика  Разработка игр  Языки программирования  \n",
       "0               1               0                       0  \n",
       "1               1               0                       0  \n",
       "2               1               0                       0  \n",
       "3               1               0                       0  \n",
       "4               1               0                       0  \n",
       "...           ...             ...                     ...  \n",
       "22788           0               1                       0  \n",
       "22789           0               1                       0  \n",
       "22790           0               1                       0  \n",
       "22791           0               1                       0  \n",
       "22792           0               1                       0  \n",
       "\n",
       "[22793 rows x 8 columns]"
      ]
     },
     "execution_count": 9,
     "metadata": {},
     "output_type": "execute_result"
    }
   ],
   "source": [
    "df_users"
   ]
  },
  {
   "cell_type": "code",
   "execution_count": 46,
   "id": "1c4b2d0a",
   "metadata": {},
   "outputs": [
    {
     "data": {
      "text/html": [
       "<div>\n",
       "<style scoped>\n",
       "    .dataframe tbody tr th:only-of-type {\n",
       "        vertical-align: middle;\n",
       "    }\n",
       "\n",
       "    .dataframe tbody tr th {\n",
       "        vertical-align: top;\n",
       "    }\n",
       "\n",
       "    .dataframe thead th {\n",
       "        text-align: right;\n",
       "    }\n",
       "</style>\n",
       "<table border=\"1\" class=\"dataframe\">\n",
       "  <thead>\n",
       "    <tr style=\"text-align: right;\">\n",
       "      <th></th>\n",
       "      <th>Name</th>\n",
       "      <th>Rating</th>\n",
       "      <th>Графический дизайн</th>\n",
       "      <th>Маркетинг и продажи</th>\n",
       "      <th>Математика</th>\n",
       "      <th>Разработка игр</th>\n",
       "      <th>Языки программирования</th>\n",
       "    </tr>\n",
       "  </thead>\n",
       "  <tbody>\n",
       "    <tr>\n",
       "      <th>0</th>\n",
       "      <td>\"Поколение Python\": курс для профессионалов</td>\n",
       "      <td>5.0</td>\n",
       "      <td>0</td>\n",
       "      <td>0</td>\n",
       "      <td>0</td>\n",
       "      <td>0</td>\n",
       "      <td>1</td>\n",
       "    </tr>\n",
       "    <tr>\n",
       "      <th>1</th>\n",
       "      <td>\"Поколение Python\": ООП</td>\n",
       "      <td>4.9</td>\n",
       "      <td>0</td>\n",
       "      <td>0</td>\n",
       "      <td>0</td>\n",
       "      <td>0</td>\n",
       "      <td>1</td>\n",
       "    </tr>\n",
       "    <tr>\n",
       "      <th>2</th>\n",
       "      <td>Асинхронность в Python. Asyncio</td>\n",
       "      <td>5.0</td>\n",
       "      <td>0</td>\n",
       "      <td>0</td>\n",
       "      <td>0</td>\n",
       "      <td>0</td>\n",
       "      <td>1</td>\n",
       "    </tr>\n",
       "  </tbody>\n",
       "</table>\n",
       "</div>"
      ],
      "text/plain": [
       "                                          Name  Rating  Графический дизайн  \\\n",
       "0  \"Поколение Python\": курс для профессионалов     5.0                   0   \n",
       "1                      \"Поколение Python\": ООП     4.9                   0   \n",
       "2              Асинхронность в Python. Asyncio     5.0                   0   \n",
       "\n",
       "   Маркетинг и продажи  Математика  Разработка игр  Языки программирования  \n",
       "0                    0           0               0                       1  \n",
       "1                    0           0               0                       1  \n",
       "2                    0           0               0                       1  "
      ]
     },
     "execution_count": 46,
     "metadata": {},
     "output_type": "execute_result"
    }
   ],
   "source": [
    "df_items.head(3)"
   ]
  },
  {
   "cell_type": "code",
   "execution_count": 11,
   "id": "75c00f2d",
   "metadata": {},
   "outputs": [],
   "source": [
    "# Подготовка данных - преобразование в формат для моделей\\\n",
    "from datetime import datetime    \n",
    "from rectools.dataset import Dataset\n",
    "from sklearn.model_selection import train_test_split\n",
    "\n",
    "# Вносим изменения в таблицу взаимодействий. Наименвоания столбцов строгие!!\n",
    "df_iterations = df_iterations.rename(\n",
    "    columns={\n",
    "        'id': 'user_id',\n",
    "        'пройденные_курсы': 'item_id',\n",
    "        'оценка': 'weight'\n",
    "        }\n",
    "    )\n",
    "df_iterations['datetime'] = datetime(2025, 1, 1) # Без времени не работает казлина\n",
    "\n",
    "# train_df, test_df = train_test_split(\n",
    "#     df_iterations,\n",
    "#     test_size=0.2,\n",
    "#     random_state=42,\n",
    "#     shuffle=True\n",
    "# )\n",
    "\n",
    "# Таблица признаков юзера\n",
    "df_users = df_users.rename(\n",
    "            columns={\n",
    "                'id': 'user_id'\n",
    "            } \n",
    "        ).drop_duplicates(subset='user_id')\n",
    "\n",
    "# Таблица признаков курсов\n",
    "df_items = df_items.rename(\n",
    "    columns={\n",
    "        'Name': 'item_id'\n",
    "    }\n",
    ").drop_duplicates(subset='item_id')\n",
    "\n",
    "dataset_train = Dataset.construct(\n",
    "    interactions_df=df_iterations,\n",
    "    user_features_df=df_users,\n",
    "    item_features_df=df_items,\n",
    "    make_dense_user_features=True,\n",
    "    make_dense_item_features=True\n",
    ")\n",
    "\n",
    "# dataset_test = Dataset.construct(\n",
    "#     interactions_df=test_df,\n",
    "#     user_features_df=df_users,\n",
    "#     item_features_df=df_items,\n",
    "#     make_dense_user_features=True,\n",
    "#     make_dense_item_features=True\n",
    "# )\n",
    "\n",
    "\n"
   ]
  },
  {
   "cell_type": "code",
   "execution_count": 85,
   "id": "072083a3",
   "metadata": {},
   "outputs": [
    {
     "data": {
      "text/html": [
       "<div>\n",
       "<style scoped>\n",
       "    .dataframe tbody tr th:only-of-type {\n",
       "        vertical-align: middle;\n",
       "    }\n",
       "\n",
       "    .dataframe tbody tr th {\n",
       "        vertical-align: top;\n",
       "    }\n",
       "\n",
       "    .dataframe thead th {\n",
       "        text-align: right;\n",
       "    }\n",
       "</style>\n",
       "<table border=\"1\" class=\"dataframe\">\n",
       "  <thead>\n",
       "    <tr style=\"text-align: right;\">\n",
       "      <th></th>\n",
       "      <th>user_id</th>\n",
       "      <th>item_id</th>\n",
       "      <th>weight</th>\n",
       "      <th>datetime</th>\n",
       "    </tr>\n",
       "  </thead>\n",
       "  <tbody>\n",
       "    <tr>\n",
       "      <th>0</th>\n",
       "      <td>1</td>\n",
       "      <td>\"Поколение Python\": курс для начинающих</td>\n",
       "      <td>9</td>\n",
       "      <td>2025-01-01</td>\n",
       "    </tr>\n",
       "    <tr>\n",
       "      <th>1</th>\n",
       "      <td>1</td>\n",
       "      <td>Дроби - 2в1 (Математика, 5 класс)</td>\n",
       "      <td>10</td>\n",
       "      <td>2025-01-01</td>\n",
       "    </tr>\n",
       "    <tr>\n",
       "      <th>2</th>\n",
       "      <td>1</td>\n",
       "      <td>Практикум по математике и Python</td>\n",
       "      <td>9</td>\n",
       "      <td>2025-01-01</td>\n",
       "    </tr>\n",
       "    <tr>\n",
       "      <th>3</th>\n",
       "      <td>1</td>\n",
       "      <td>ЕГЭ по математике 2025: первая часть</td>\n",
       "      <td>1</td>\n",
       "      <td>2025-01-01</td>\n",
       "    </tr>\n",
       "    <tr>\n",
       "      <th>4</th>\n",
       "      <td>1</td>\n",
       "      <td>АА - Активный Английский от Екатерины Зак для ...</td>\n",
       "      <td>9</td>\n",
       "      <td>2025-01-01</td>\n",
       "    </tr>\n",
       "    <tr>\n",
       "      <th>...</th>\n",
       "      <td>...</td>\n",
       "      <td>...</td>\n",
       "      <td>...</td>\n",
       "      <td>...</td>\n",
       "    </tr>\n",
       "    <tr>\n",
       "      <th>22788</th>\n",
       "      <td>2000</td>\n",
       "      <td>НТО Junior 22. ОК «Технологии и компьютерные и...</td>\n",
       "      <td>8</td>\n",
       "      <td>2025-01-01</td>\n",
       "    </tr>\n",
       "    <tr>\n",
       "      <th>22789</th>\n",
       "      <td>2000</td>\n",
       "      <td>НТО Junior 23-24. ОК \"Технологии и компьютерны...</td>\n",
       "      <td>10</td>\n",
       "      <td>2025-01-01</td>\n",
       "    </tr>\n",
       "    <tr>\n",
       "      <th>22790</th>\n",
       "      <td>2000</td>\n",
       "      <td>Продвинутый уровень на Python</td>\n",
       "      <td>1</td>\n",
       "      <td>2025-01-01</td>\n",
       "    </tr>\n",
       "    <tr>\n",
       "      <th>22791</th>\n",
       "      <td>2000</td>\n",
       "      <td>Подготовка к ОГЭ по Математике от эксперта 2025</td>\n",
       "      <td>10</td>\n",
       "      <td>2025-01-01</td>\n",
       "    </tr>\n",
       "    <tr>\n",
       "      <th>22792</th>\n",
       "      <td>2000</td>\n",
       "      <td>Математика (геометрия ОГЭ 1 часть) 2025 год</td>\n",
       "      <td>6</td>\n",
       "      <td>2025-01-01</td>\n",
       "    </tr>\n",
       "  </tbody>\n",
       "</table>\n",
       "<p>22793 rows × 4 columns</p>\n",
       "</div>"
      ],
      "text/plain": [
       "       user_id                                            item_id  weight  \\\n",
       "0            1            \"Поколение Python\": курс для начинающих       9   \n",
       "1            1                  Дроби - 2в1 (Математика, 5 класс)      10   \n",
       "2            1                   Практикум по математике и Python       9   \n",
       "3            1               ЕГЭ по математике 2025: первая часть       1   \n",
       "4            1  АА - Активный Английский от Екатерины Зак для ...       9   \n",
       "...        ...                                                ...     ...   \n",
       "22788     2000  НТО Junior 22. ОК «Технологии и компьютерные и...       8   \n",
       "22789     2000  НТО Junior 23-24. ОК \"Технологии и компьютерны...      10   \n",
       "22790     2000                      Продвинутый уровень на Python       1   \n",
       "22791     2000    Подготовка к ОГЭ по Математике от эксперта 2025      10   \n",
       "22792     2000        Математика (геометрия ОГЭ 1 часть) 2025 год       6   \n",
       "\n",
       "        datetime  \n",
       "0     2025-01-01  \n",
       "1     2025-01-01  \n",
       "2     2025-01-01  \n",
       "3     2025-01-01  \n",
       "4     2025-01-01  \n",
       "...          ...  \n",
       "22788 2025-01-01  \n",
       "22789 2025-01-01  \n",
       "22790 2025-01-01  \n",
       "22791 2025-01-01  \n",
       "22792 2025-01-01  \n",
       "\n",
       "[22793 rows x 4 columns]"
      ]
     },
     "execution_count": 85,
     "metadata": {},
     "output_type": "execute_result"
    }
   ],
   "source": [
    "df_iterations"
   ]
  },
  {
   "cell_type": "code",
   "execution_count": 87,
   "id": "5377f3ea",
   "metadata": {},
   "outputs": [
    {
     "data": {
      "text/html": [
       "<div>\n",
       "<style scoped>\n",
       "    .dataframe tbody tr th:only-of-type {\n",
       "        vertical-align: middle;\n",
       "    }\n",
       "\n",
       "    .dataframe tbody tr th {\n",
       "        vertical-align: top;\n",
       "    }\n",
       "\n",
       "    .dataframe thead th {\n",
       "        text-align: right;\n",
       "    }\n",
       "</style>\n",
       "<table border=\"1\" class=\"dataframe\">\n",
       "  <thead>\n",
       "    <tr style=\"text-align: right;\">\n",
       "      <th></th>\n",
       "      <th>user_id</th>\n",
       "      <th>item_id</th>\n",
       "      <th>weight</th>\n",
       "      <th>datetime</th>\n",
       "    </tr>\n",
       "  </thead>\n",
       "  <tbody>\n",
       "    <tr>\n",
       "      <th>8195</th>\n",
       "      <td>715</td>\n",
       "      <td>Цифровая обработка изображений в редакторе Pho...</td>\n",
       "      <td>10</td>\n",
       "      <td>2025-01-01</td>\n",
       "    </tr>\n",
       "    <tr>\n",
       "      <th>8196</th>\n",
       "      <td>715</td>\n",
       "      <td>Курс по Adobe Photoshop - с нуля до результата!</td>\n",
       "      <td>1</td>\n",
       "      <td>2025-01-01</td>\n",
       "    </tr>\n",
       "    <tr>\n",
       "      <th>8203</th>\n",
       "      <td>715</td>\n",
       "      <td>Рациональные числа (Математика, 6 класс)</td>\n",
       "      <td>7</td>\n",
       "      <td>2025-01-01</td>\n",
       "    </tr>\n",
       "    <tr>\n",
       "      <th>8204</th>\n",
       "      <td>715</td>\n",
       "      <td>НТО Junior 23-24. ОК \"Технологии и компьютерны...</td>\n",
       "      <td>10</td>\n",
       "      <td>2025-01-01</td>\n",
       "    </tr>\n",
       "    <tr>\n",
       "      <th>8201</th>\n",
       "      <td>715</td>\n",
       "      <td>Учебник по UI-дизайну</td>\n",
       "      <td>1</td>\n",
       "      <td>2025-01-01</td>\n",
       "    </tr>\n",
       "    <tr>\n",
       "      <th>8199</th>\n",
       "      <td>715</td>\n",
       "      <td>Основы работы с чатом GPT и Midjourney</td>\n",
       "      <td>10</td>\n",
       "      <td>2025-01-01</td>\n",
       "    </tr>\n",
       "    <tr>\n",
       "      <th>8202</th>\n",
       "      <td>715</td>\n",
       "      <td>Инструменты дизайнера Photoshop и Illustrator....</td>\n",
       "      <td>10</td>\n",
       "      <td>2025-01-01</td>\n",
       "    </tr>\n",
       "  </tbody>\n",
       "</table>\n",
       "</div>"
      ],
      "text/plain": [
       "      user_id                                            item_id  weight  \\\n",
       "8195      715  Цифровая обработка изображений в редакторе Pho...      10   \n",
       "8196      715    Курс по Adobe Photoshop - с нуля до результата!       1   \n",
       "8203      715           Рациональные числа (Математика, 6 класс)       7   \n",
       "8204      715  НТО Junior 23-24. ОК \"Технологии и компьютерны...      10   \n",
       "8201      715                              Учебник по UI-дизайну       1   \n",
       "8199      715             Основы работы с чатом GPT и Midjourney      10   \n",
       "8202      715  Инструменты дизайнера Photoshop и Illustrator....      10   \n",
       "\n",
       "       datetime  \n",
       "8195 2025-01-01  \n",
       "8196 2025-01-01  \n",
       "8203 2025-01-01  \n",
       "8204 2025-01-01  \n",
       "8201 2025-01-01  \n",
       "8199 2025-01-01  \n",
       "8202 2025-01-01  "
      ]
     },
     "execution_count": 87,
     "metadata": {},
     "output_type": "execute_result"
    }
   ],
   "source": [
    "train_df[train_df['user_id'] == 715]"
   ]
  },
  {
   "cell_type": "code",
   "execution_count": 88,
   "id": "4dd3a571",
   "metadata": {},
   "outputs": [
    {
     "data": {
      "text/html": [
       "<div>\n",
       "<style scoped>\n",
       "    .dataframe tbody tr th:only-of-type {\n",
       "        vertical-align: middle;\n",
       "    }\n",
       "\n",
       "    .dataframe tbody tr th {\n",
       "        vertical-align: top;\n",
       "    }\n",
       "\n",
       "    .dataframe thead th {\n",
       "        text-align: right;\n",
       "    }\n",
       "</style>\n",
       "<table border=\"1\" class=\"dataframe\">\n",
       "  <thead>\n",
       "    <tr style=\"text-align: right;\">\n",
       "      <th></th>\n",
       "      <th>user_id</th>\n",
       "      <th>item_id</th>\n",
       "      <th>weight</th>\n",
       "      <th>datetime</th>\n",
       "    </tr>\n",
       "  </thead>\n",
       "  <tbody>\n",
       "    <tr>\n",
       "      <th>8197</th>\n",
       "      <td>715</td>\n",
       "      <td>Введение в дизайн</td>\n",
       "      <td>7</td>\n",
       "      <td>2025-01-01</td>\n",
       "    </tr>\n",
       "    <tr>\n",
       "      <th>8200</th>\n",
       "      <td>715</td>\n",
       "      <td>Основы дизайна интерфейсов</td>\n",
       "      <td>9</td>\n",
       "      <td>2025-01-01</td>\n",
       "    </tr>\n",
       "    <tr>\n",
       "      <th>8198</th>\n",
       "      <td>715</td>\n",
       "      <td>Дизайн инфографики и визуализации данных</td>\n",
       "      <td>7</td>\n",
       "      <td>2025-01-01</td>\n",
       "    </tr>\n",
       "  </tbody>\n",
       "</table>\n",
       "</div>"
      ],
      "text/plain": [
       "      user_id                                   item_id  weight   datetime\n",
       "8197      715                         Введение в дизайн       7 2025-01-01\n",
       "8200      715                Основы дизайна интерфейсов       9 2025-01-01\n",
       "8198      715  Дизайн инфографики и визуализации данных       7 2025-01-01"
      ]
     },
     "execution_count": 88,
     "metadata": {},
     "output_type": "execute_result"
    }
   ],
   "source": [
    "test_df[test_df['user_id'] == 715]"
   ]
  },
  {
   "cell_type": "markdown",
   "id": "936a6606",
   "metadata": {},
   "source": [
    "### Popular Model"
   ]
  },
  {
   "cell_type": "code",
   "execution_count": 36,
   "id": "02d14196",
   "metadata": {},
   "outputs": [],
   "source": [
    "from rectools.models import PopularModel\n",
    "\n",
    "\n",
    "model = PopularModel()\n",
    "model.fit(dataset_train)\n",
    "\n",
    "recos = model.recommend(\n",
    "    users=dataset_train.interactions.df['user_id'].unique(),\n",
    "    dataset=dataset_train,\n",
    "    k=10,\n",
    "    filter_viewed=True,\n",
    ")"
   ]
  },
  {
   "cell_type": "code",
   "execution_count": 37,
   "id": "12463478",
   "metadata": {},
   "outputs": [
    {
     "data": {
      "text/html": [
       "<div>\n",
       "<style scoped>\n",
       "    .dataframe tbody tr th:only-of-type {\n",
       "        vertical-align: middle;\n",
       "    }\n",
       "\n",
       "    .dataframe tbody tr th {\n",
       "        vertical-align: top;\n",
       "    }\n",
       "\n",
       "    .dataframe thead th {\n",
       "        text-align: right;\n",
       "    }\n",
       "</style>\n",
       "<table border=\"1\" class=\"dataframe\">\n",
       "  <thead>\n",
       "    <tr style=\"text-align: right;\">\n",
       "      <th></th>\n",
       "      <th>user_id</th>\n",
       "      <th>item_id</th>\n",
       "      <th>score</th>\n",
       "      <th>rank</th>\n",
       "    </tr>\n",
       "  </thead>\n",
       "  <tbody>\n",
       "    <tr>\n",
       "      <th>0</th>\n",
       "      <td>1</td>\n",
       "      <td>\"Поколение Python\": курс для профессионалов</td>\n",
       "      <td>387.0</td>\n",
       "      <td>1</td>\n",
       "    </tr>\n",
       "    <tr>\n",
       "      <th>1</th>\n",
       "      <td>1</td>\n",
       "      <td>1С: Управление торговлей</td>\n",
       "      <td>372.0</td>\n",
       "      <td>2</td>\n",
       "    </tr>\n",
       "    <tr>\n",
       "      <th>2</th>\n",
       "      <td>1</td>\n",
       "      <td>Введение в Unity</td>\n",
       "      <td>360.0</td>\n",
       "      <td>3</td>\n",
       "    </tr>\n",
       "    <tr>\n",
       "      <th>3</th>\n",
       "      <td>1</td>\n",
       "      <td>Создание игр на Unreal Engine</td>\n",
       "      <td>340.0</td>\n",
       "      <td>4</td>\n",
       "    </tr>\n",
       "    <tr>\n",
       "      <th>4</th>\n",
       "      <td>1</td>\n",
       "      <td>Основы дизайна интерфейсов</td>\n",
       "      <td>306.0</td>\n",
       "      <td>5</td>\n",
       "    </tr>\n",
       "    <tr>\n",
       "      <th>...</th>\n",
       "      <td>...</td>\n",
       "      <td>...</td>\n",
       "      <td>...</td>\n",
       "      <td>...</td>\n",
       "    </tr>\n",
       "    <tr>\n",
       "      <th>19995</th>\n",
       "      <td>0</td>\n",
       "      <td>Введение в Unity</td>\n",
       "      <td>360.0</td>\n",
       "      <td>6</td>\n",
       "    </tr>\n",
       "    <tr>\n",
       "      <th>19996</th>\n",
       "      <td>0</td>\n",
       "      <td>Создание игр на Unreal Engine</td>\n",
       "      <td>340.0</td>\n",
       "      <td>7</td>\n",
       "    </tr>\n",
       "    <tr>\n",
       "      <th>19997</th>\n",
       "      <td>0</td>\n",
       "      <td>ЕГЭ по математике 2025: уравнения</td>\n",
       "      <td>314.0</td>\n",
       "      <td>8</td>\n",
       "    </tr>\n",
       "    <tr>\n",
       "      <th>19998</th>\n",
       "      <td>0</td>\n",
       "      <td>АА - Активный Английский от Екатерины Зак для ...</td>\n",
       "      <td>310.0</td>\n",
       "      <td>9</td>\n",
       "    </tr>\n",
       "    <tr>\n",
       "      <th>19999</th>\n",
       "      <td>0</td>\n",
       "      <td>Основы дизайна интерфейсов</td>\n",
       "      <td>306.0</td>\n",
       "      <td>10</td>\n",
       "    </tr>\n",
       "  </tbody>\n",
       "</table>\n",
       "<p>20000 rows × 4 columns</p>\n",
       "</div>"
      ],
      "text/plain": [
       "       user_id                                            item_id  score  rank\n",
       "0            1        \"Поколение Python\": курс для профессионалов  387.0     1\n",
       "1            1                           1С: Управление торговлей  372.0     2\n",
       "2            1                                   Введение в Unity  360.0     3\n",
       "3            1                      Создание игр на Unreal Engine  340.0     4\n",
       "4            1                         Основы дизайна интерфейсов  306.0     5\n",
       "...        ...                                                ...    ...   ...\n",
       "19995        0                                   Введение в Unity  360.0     6\n",
       "19996        0                      Создание игр на Unreal Engine  340.0     7\n",
       "19997        0                  ЕГЭ по математике 2025: уравнения  314.0     8\n",
       "19998        0  АА - Активный Английский от Екатерины Зак для ...  310.0     9\n",
       "19999        0                         Основы дизайна интерфейсов  306.0    10\n",
       "\n",
       "[20000 rows x 4 columns]"
      ]
     },
     "execution_count": 37,
     "metadata": {},
     "output_type": "execute_result"
    }
   ],
   "source": [
    "recos"
   ]
  },
  {
   "cell_type": "code",
   "execution_count": 39,
   "id": "ee156379",
   "metadata": {},
   "outputs": [
    {
     "data": {
      "text/plain": [
       "0.0"
      ]
     },
     "execution_count": 39,
     "metadata": {},
     "output_type": "execute_result"
    }
   ],
   "source": [
    "from rectools.metrics import MAP\n",
    "MAP(k=10).calc_per_user(recos, df_iterations[['user_id', 'item_id']]).values.mean()"
   ]
  },
  {
   "cell_type": "markdown",
   "id": "30b02f12",
   "metadata": {},
   "source": [
    "### SVD"
   ]
  },
  {
   "cell_type": "code",
   "execution_count": 12,
   "id": "4f2b0ea7",
   "metadata": {},
   "outputs": [
    {
     "ename": "ValueError",
     "evalue": "\n                Model `<class 'rectools.models.pure_svd.PureSVDModel'>` doesn't support recommendations for cold users,\n                but some of given users are cold: they are not in the `dataset.user_id_map`\n            ",
     "output_type": "error",
     "traceback": [
      "\u001b[31m---------------------------------------------------------------------------\u001b[39m",
      "\u001b[31mValueError\u001b[39m                                Traceback (most recent call last)",
      "\u001b[36mCell\u001b[39m\u001b[36m \u001b[39m\u001b[32mIn[12]\u001b[39m\u001b[32m, line 7\u001b[39m\n\u001b[32m      4\u001b[39m model = PureSVDModel()\n\u001b[32m      5\u001b[39m model.fit(dataset_train)\n\u001b[32m----> \u001b[39m\u001b[32m7\u001b[39m recos = \u001b[43mmodel\u001b[49m\u001b[43m.\u001b[49m\u001b[43mrecommend\u001b[49m\u001b[43m(\u001b[49m\n\u001b[32m      8\u001b[39m \u001b[43m    \u001b[49m\u001b[43musers\u001b[49m\u001b[43m=\u001b[49m\u001b[43mdataset_train\u001b[49m\u001b[43m.\u001b[49m\u001b[43minteractions\u001b[49m\u001b[43m.\u001b[49m\u001b[43mdf\u001b[49m\u001b[43m[\u001b[49m\u001b[33;43m'\u001b[39;49m\u001b[33;43muser_id\u001b[39;49m\u001b[33;43m'\u001b[39;49m\u001b[43m]\u001b[49m\u001b[43m.\u001b[49m\u001b[43munique\u001b[49m\u001b[43m(\u001b[49m\u001b[43m)\u001b[49m\u001b[43m,\u001b[49m\n\u001b[32m      9\u001b[39m \u001b[43m    \u001b[49m\u001b[43mdataset\u001b[49m\u001b[43m=\u001b[49m\u001b[43mdataset_train\u001b[49m\u001b[43m,\u001b[49m\n\u001b[32m     10\u001b[39m \u001b[43m    \u001b[49m\u001b[43mk\u001b[49m\u001b[43m=\u001b[49m\u001b[32;43m10\u001b[39;49m\u001b[43m,\u001b[49m\n\u001b[32m     11\u001b[39m \u001b[43m    \u001b[49m\u001b[43mfilter_viewed\u001b[49m\u001b[43m=\u001b[49m\u001b[38;5;28;43;01mTrue\u001b[39;49;00m\u001b[43m,\u001b[49m\n\u001b[32m     12\u001b[39m \u001b[43m)\u001b[49m\n",
      "\u001b[36mFile \u001b[39m\u001b[32m~/.pyenv/versions/rec_System/lib/python3.11/site-packages/rectools/models/base.py:448\u001b[39m, in \u001b[36mModelBase.recommend\u001b[39m\u001b[34m(self, users, dataset, k, filter_viewed, items_to_recommend, add_rank_col, on_unsupported_targets)\u001b[39m\n\u001b[32m    442\u001b[39m \u001b[38;5;66;03m# Here for hot and warm we get internal ids, for cold we keep external ids\u001b[39;00m\n\u001b[32m    443\u001b[39m hot_user_ids, warm_user_ids, cold_user_ids = \u001b[38;5;28mself\u001b[39m._split_targets_by_hot_warm_cold(\n\u001b[32m    444\u001b[39m     users,\n\u001b[32m    445\u001b[39m     dataset,\n\u001b[32m    446\u001b[39m     \u001b[33m\"\u001b[39m\u001b[33muser\u001b[39m\u001b[33m\"\u001b[39m,\n\u001b[32m    447\u001b[39m )\n\u001b[32m--> \u001b[39m\u001b[32m448\u001b[39m hot_user_ids, warm_user_ids, cold_user_ids = \u001b[38;5;28;43mself\u001b[39;49m\u001b[43m.\u001b[49m\u001b[43m_check_targets_are_valid\u001b[49m\u001b[43m(\u001b[49m\n\u001b[32m    449\u001b[39m \u001b[43m    \u001b[49m\u001b[43mhot_user_ids\u001b[49m\u001b[43m,\u001b[49m\u001b[43m \u001b[49m\u001b[43mwarm_user_ids\u001b[49m\u001b[43m,\u001b[49m\u001b[43m \u001b[49m\u001b[43mcold_user_ids\u001b[49m\u001b[43m,\u001b[49m\u001b[43m \u001b[49m\u001b[33;43m\"\u001b[39;49m\u001b[33;43muser\u001b[39;49m\u001b[33;43m\"\u001b[39;49m\u001b[43m,\u001b[49m\u001b[43m \u001b[49m\u001b[43mon_unsupported_targets\u001b[49m\n\u001b[32m    450\u001b[39m \u001b[43m\u001b[49m\u001b[43m)\u001b[49m\n\u001b[32m    452\u001b[39m reco_hot = \u001b[38;5;28mself\u001b[39m._init_internal_reco_triplet()\n\u001b[32m    453\u001b[39m reco_warm = \u001b[38;5;28mself\u001b[39m._init_internal_reco_triplet()\n",
      "\u001b[36mFile \u001b[39m\u001b[32m~/.pyenv/versions/rec_System/lib/python3.11/site-packages/rectools/models/base.py:697\u001b[39m, in \u001b[36mModelBase._check_targets_are_valid\u001b[39m\u001b[34m(cls, hot_targets, warm_targets, cold_targets, entity, on_unsupported_targets)\u001b[39m\n\u001b[32m    695\u001b[39m         warnings.warn(explanation)\n\u001b[32m    696\u001b[39m     \u001b[38;5;28;01melif\u001b[39;00m on_unsupported_targets == \u001b[33m\"\u001b[39m\u001b[33mraise\u001b[39m\u001b[33m\"\u001b[39m:\n\u001b[32m--> \u001b[39m\u001b[32m697\u001b[39m         \u001b[38;5;28;01mraise\u001b[39;00m \u001b[38;5;167;01mValueError\u001b[39;00m(explanation)\n\u001b[32m    698\u001b[39m     cold_targets = np.asarray([])\n\u001b[32m    699\u001b[39m \u001b[38;5;28;01mreturn\u001b[39;00m hot_targets, warm_targets, cold_targets\n",
      "\u001b[31mValueError\u001b[39m: \n                Model `<class 'rectools.models.pure_svd.PureSVDModel'>` doesn't support recommendations for cold users,\n                but some of given users are cold: they are not in the `dataset.user_id_map`\n            "
     ]
    }
   ],
   "source": [
    "from rectools.models import PureSVDModel\n",
    "\n",
    "# Fit model and generate recommendations for all users\n",
    "model = PureSVDModel()\n",
    "model.fit(dataset_train)\n",
    "\n",
    "recos = model.recommend(\n",
    "    users=dataset_train.interactions.df['user_id'].unique(),\n",
    "    dataset=dataset_train,\n",
    "    k=10,\n",
    "    filter_viewed=True,\n",
    ")"
   ]
  },
  {
   "cell_type": "code",
   "execution_count": 121,
   "id": "219f7a68",
   "metadata": {},
   "outputs": [
    {
     "data": {
      "text/plain": [
       "0.26318947802777864"
      ]
     },
     "execution_count": 121,
     "metadata": {},
     "output_type": "execute_result"
    }
   ],
   "source": [
    "MAP(k=10).calc_per_user(recos, test_df[['user_id', 'item_id']]).values.mean()"
   ]
  },
  {
   "cell_type": "markdown",
   "id": "e9525eb2",
   "metadata": {},
   "source": [
    "### ALS"
   ]
  },
  {
   "cell_type": "code",
   "execution_count": 32,
   "id": "b7e28ed7",
   "metadata": {},
   "outputs": [
    {
     "name": "stderr",
     "output_type": "stream",
     "text": [
      "/home/aleksandr/.pyenv/versions/rec_System/lib/python3.11/site-packages/implicit/cpu/als.py:95: RuntimeWarning: OpenBLAS is configured to use 12 threads. It is highly recommended to disable its internal threadpool by setting the environment variable 'OPENBLAS_NUM_THREADS=1' or by calling 'threadpoolctl.threadpool_limits(1, \"blas\")'. Having OpenBLAS use a threadpool can lead to severe performance issues here.\n",
      "  check_blas_config()\n"
     ]
    },
    {
     "data": {
      "application/vnd.jupyter.widget-view+json": {
       "model_id": "e8fc28b81ffc4020a496a40f35bf04f2",
       "version_major": 2,
       "version_minor": 0
      },
      "text/plain": [
       "  0%|          | 0/1 [00:00<?, ?it/s]"
      ]
     },
     "metadata": {},
     "output_type": "display_data"
    },
    {
     "data": {
      "application/vnd.jupyter.widget-view+json": {
       "model_id": "923789ca00f74161ba33f52fccd9bd06",
       "version_major": 2,
       "version_minor": 0
      },
      "text/plain": [
       "  0%|          | 0/1 [00:00<?, ?it/s]"
      ]
     },
     "metadata": {},
     "output_type": "display_data"
    },
    {
     "ename": "ValueError",
     "evalue": "\n                Model `<class 'rectools.models.implicit_als.ImplicitALSWrapperModel'>` doesn't support recommendations for warm and cold users,\n                but some of given users are warm: they are not in the interactions\n            ",
     "output_type": "error",
     "traceback": [
      "\u001b[31m---------------------------------------------------------------------------\u001b[39m",
      "\u001b[31mValueError\u001b[39m                                Traceback (most recent call last)",
      "\u001b[36mCell\u001b[39m\u001b[36m \u001b[39m\u001b[32mIn[32]\u001b[39m\u001b[32m, line 15\u001b[39m\n\u001b[32m     12\u001b[39m model = ImplicitALSWrapperModel(als_score)\n\u001b[32m     13\u001b[39m model.fit(dataset_train)\n\u001b[32m---> \u001b[39m\u001b[32m15\u001b[39m recos = \u001b[43mmodel\u001b[49m\u001b[43m.\u001b[49m\u001b[43mrecommend\u001b[49m\u001b[43m(\u001b[49m\n\u001b[32m     16\u001b[39m \u001b[43m    \u001b[49m\u001b[43musers\u001b[49m\u001b[43m=\u001b[49m\u001b[43mdataset_train\u001b[49m\u001b[43m.\u001b[49m\u001b[43minteractions\u001b[49m\u001b[43m.\u001b[49m\u001b[43mdf\u001b[49m\u001b[43m[\u001b[49m\u001b[33;43m'\u001b[39;49m\u001b[33;43muser_id\u001b[39;49m\u001b[33;43m'\u001b[39;49m\u001b[43m]\u001b[49m\u001b[43m.\u001b[49m\u001b[43munique\u001b[49m\u001b[43m(\u001b[49m\u001b[43m)\u001b[49m\u001b[43m,\u001b[49m\n\u001b[32m     17\u001b[39m \u001b[43m    \u001b[49m\u001b[43mdataset\u001b[49m\u001b[43m=\u001b[49m\u001b[43mdataset_train\u001b[49m\u001b[43m,\u001b[49m\n\u001b[32m     18\u001b[39m \u001b[43m    \u001b[49m\u001b[43mk\u001b[49m\u001b[43m=\u001b[49m\u001b[32;43m10\u001b[39;49m\u001b[43m,\u001b[49m\n\u001b[32m     19\u001b[39m \u001b[43m    \u001b[49m\u001b[43mfilter_viewed\u001b[49m\u001b[43m=\u001b[49m\u001b[38;5;28;43;01mTrue\u001b[39;49;00m\u001b[43m,\u001b[49m\n\u001b[32m     20\u001b[39m \u001b[43m)\u001b[49m\n",
      "\u001b[36mFile \u001b[39m\u001b[32m~/.pyenv/versions/rec_System/lib/python3.11/site-packages/rectools/models/base.py:448\u001b[39m, in \u001b[36mModelBase.recommend\u001b[39m\u001b[34m(self, users, dataset, k, filter_viewed, items_to_recommend, add_rank_col, on_unsupported_targets)\u001b[39m\n\u001b[32m    442\u001b[39m \u001b[38;5;66;03m# Here for hot and warm we get internal ids, for cold we keep external ids\u001b[39;00m\n\u001b[32m    443\u001b[39m hot_user_ids, warm_user_ids, cold_user_ids = \u001b[38;5;28mself\u001b[39m._split_targets_by_hot_warm_cold(\n\u001b[32m    444\u001b[39m     users,\n\u001b[32m    445\u001b[39m     dataset,\n\u001b[32m    446\u001b[39m     \u001b[33m\"\u001b[39m\u001b[33muser\u001b[39m\u001b[33m\"\u001b[39m,\n\u001b[32m    447\u001b[39m )\n\u001b[32m--> \u001b[39m\u001b[32m448\u001b[39m hot_user_ids, warm_user_ids, cold_user_ids = \u001b[38;5;28;43mself\u001b[39;49m\u001b[43m.\u001b[49m\u001b[43m_check_targets_are_valid\u001b[49m\u001b[43m(\u001b[49m\n\u001b[32m    449\u001b[39m \u001b[43m    \u001b[49m\u001b[43mhot_user_ids\u001b[49m\u001b[43m,\u001b[49m\u001b[43m \u001b[49m\u001b[43mwarm_user_ids\u001b[49m\u001b[43m,\u001b[49m\u001b[43m \u001b[49m\u001b[43mcold_user_ids\u001b[49m\u001b[43m,\u001b[49m\u001b[43m \u001b[49m\u001b[33;43m\"\u001b[39;49m\u001b[33;43muser\u001b[39;49m\u001b[33;43m\"\u001b[39;49m\u001b[43m,\u001b[49m\u001b[43m \u001b[49m\u001b[43mon_unsupported_targets\u001b[49m\n\u001b[32m    450\u001b[39m \u001b[43m\u001b[49m\u001b[43m)\u001b[49m\n\u001b[32m    452\u001b[39m reco_hot = \u001b[38;5;28mself\u001b[39m._init_internal_reco_triplet()\n\u001b[32m    453\u001b[39m reco_warm = \u001b[38;5;28mself\u001b[39m._init_internal_reco_triplet()\n",
      "\u001b[36mFile \u001b[39m\u001b[32m~/.pyenv/versions/rec_System/lib/python3.11/site-packages/rectools/models/base.py:686\u001b[39m, in \u001b[36mModelBase._check_targets_are_valid\u001b[39m\u001b[34m(cls, hot_targets, warm_targets, cold_targets, entity, on_unsupported_targets)\u001b[39m\n\u001b[32m    684\u001b[39m         warnings.warn(explanation)\n\u001b[32m    685\u001b[39m     \u001b[38;5;28;01melif\u001b[39;00m on_unsupported_targets == \u001b[33m\"\u001b[39m\u001b[33mraise\u001b[39m\u001b[33m\"\u001b[39m:\n\u001b[32m--> \u001b[39m\u001b[32m686\u001b[39m         \u001b[38;5;28;01mraise\u001b[39;00m \u001b[38;5;167;01mValueError\u001b[39;00m(explanation)\n\u001b[32m    687\u001b[39m     warm_targets = np.asarray([])\n\u001b[32m    689\u001b[39m \u001b[38;5;28;01mif\u001b[39;00m cold_targets.size > \u001b[32m0\u001b[39m \u001b[38;5;129;01mand\u001b[39;00m \u001b[38;5;129;01mnot\u001b[39;00m \u001b[38;5;28mcls\u001b[39m.recommends_for_cold:\n",
      "\u001b[31mValueError\u001b[39m: \n                Model `<class 'rectools.models.implicit_als.ImplicitALSWrapperModel'>` doesn't support recommendations for warm and cold users,\n                but some of given users are warm: they are not in the interactions\n            "
     ]
    }
   ],
   "source": [
    "from rectools.models import ImplicitALSWrapperModel\n",
    "from implicit.als import AlternatingLeastSquares\n",
    "\n",
    "als_score = AlternatingLeastSquares(\n",
    "            factors=64,\n",
    "            regularization=0.01,\n",
    "            alpha=1,\n",
    "            random_state=2023,\n",
    "            use_gpu=False,\n",
    "            iterations=15)\n",
    "\n",
    "model = ImplicitALSWrapperModel(als_score)\n",
    "model.fit(dataset_train)\n",
    "\n",
    "recos = model.recommend(\n",
    "    users=dataset_train.interactions.df['user_id'].unique(),\n",
    "    dataset=dataset_train,\n",
    "    k=10,\n",
    "    filter_viewed=True,\n",
    ")"
   ]
  },
  {
   "cell_type": "code",
   "execution_count": 123,
   "id": "358fcab3",
   "metadata": {},
   "outputs": [
    {
     "data": {
      "text/plain": [
       "0.16542636310958048"
      ]
     },
     "execution_count": 123,
     "metadata": {},
     "output_type": "execute_result"
    }
   ],
   "source": [
    "MAP(k=10).calc_per_user(recos, test_df[['user_id', 'item_id']]).values.mean()"
   ]
  },
  {
   "cell_type": "markdown",
   "id": "1281f79d",
   "metadata": {},
   "source": [
    "### Implicit KNN"
   ]
  },
  {
   "cell_type": "code",
   "execution_count": 69,
   "id": "f41c768c",
   "metadata": {},
   "outputs": [
    {
     "ename": "ValueError",
     "evalue": "\n                Model `<class 'rectools.models.implicit_knn.ImplicitItemKNNWrapperModel'>` doesn't support recommendations for warm and cold users,\n                but some of given users are warm: they are not in the interactions\n            ",
     "output_type": "error",
     "traceback": [
      "\u001b[31m---------------------------------------------------------------------------\u001b[39m",
      "\u001b[31mValueError\u001b[39m                                Traceback (most recent call last)",
      "\u001b[36mCell\u001b[39m\u001b[36m \u001b[39m\u001b[32mIn[69]\u001b[39m\u001b[32m, line 8\u001b[39m\n\u001b[32m      4\u001b[39m model = ImplicitItemKNNWrapperModel(\n\u001b[32m      5\u001b[39m         model=TFIDFRecommender(K=\u001b[32m10\u001b[39m)\n\u001b[32m      6\u001b[39m         )\n\u001b[32m      7\u001b[39m model.fit(dataset_train)\n\u001b[32m----> \u001b[39m\u001b[32m8\u001b[39m recos = \u001b[43mmodel\u001b[49m\u001b[43m.\u001b[49m\u001b[43mrecommend\u001b[49m\u001b[43m(\u001b[49m\n\u001b[32m      9\u001b[39m \u001b[43m    \u001b[49m\u001b[43musers\u001b[49m\u001b[43m=\u001b[49m\u001b[43mdataset_test\u001b[49m\u001b[43m.\u001b[49m\u001b[43minteractions\u001b[49m\u001b[43m.\u001b[49m\u001b[43mdf\u001b[49m\u001b[43m[\u001b[49m\u001b[33;43m'\u001b[39;49m\u001b[33;43muser_id\u001b[39;49m\u001b[33;43m'\u001b[39;49m\u001b[43m]\u001b[49m\u001b[43m.\u001b[49m\u001b[43munique\u001b[49m\u001b[43m(\u001b[49m\u001b[43m)\u001b[49m\u001b[43m,\u001b[49m\n\u001b[32m     10\u001b[39m \u001b[43m    \u001b[49m\u001b[43mdataset\u001b[49m\u001b[43m=\u001b[49m\u001b[43mdataset_train\u001b[49m\u001b[43m,\u001b[49m\n\u001b[32m     11\u001b[39m \u001b[43m    \u001b[49m\u001b[43mk\u001b[49m\u001b[43m=\u001b[49m\u001b[32;43m10\u001b[39;49m\u001b[43m,\u001b[49m\n\u001b[32m     12\u001b[39m \u001b[43m    \u001b[49m\u001b[43mfilter_viewed\u001b[49m\u001b[43m=\u001b[49m\u001b[38;5;28;43;01mTrue\u001b[39;49;00m\u001b[43m,\u001b[49m\n\u001b[32m     13\u001b[39m \u001b[43m)\u001b[49m\n",
      "\u001b[36mFile \u001b[39m\u001b[32m~/.pyenv/versions/rec_System/lib/python3.11/site-packages/rectools/models/base.py:448\u001b[39m, in \u001b[36mModelBase.recommend\u001b[39m\u001b[34m(self, users, dataset, k, filter_viewed, items_to_recommend, add_rank_col, on_unsupported_targets)\u001b[39m\n\u001b[32m    442\u001b[39m \u001b[38;5;66;03m# Here for hot and warm we get internal ids, for cold we keep external ids\u001b[39;00m\n\u001b[32m    443\u001b[39m hot_user_ids, warm_user_ids, cold_user_ids = \u001b[38;5;28mself\u001b[39m._split_targets_by_hot_warm_cold(\n\u001b[32m    444\u001b[39m     users,\n\u001b[32m    445\u001b[39m     dataset,\n\u001b[32m    446\u001b[39m     \u001b[33m\"\u001b[39m\u001b[33muser\u001b[39m\u001b[33m\"\u001b[39m,\n\u001b[32m    447\u001b[39m )\n\u001b[32m--> \u001b[39m\u001b[32m448\u001b[39m hot_user_ids, warm_user_ids, cold_user_ids = \u001b[38;5;28;43mself\u001b[39;49m\u001b[43m.\u001b[49m\u001b[43m_check_targets_are_valid\u001b[49m\u001b[43m(\u001b[49m\n\u001b[32m    449\u001b[39m \u001b[43m    \u001b[49m\u001b[43mhot_user_ids\u001b[49m\u001b[43m,\u001b[49m\u001b[43m \u001b[49m\u001b[43mwarm_user_ids\u001b[49m\u001b[43m,\u001b[49m\u001b[43m \u001b[49m\u001b[43mcold_user_ids\u001b[49m\u001b[43m,\u001b[49m\u001b[43m \u001b[49m\u001b[33;43m\"\u001b[39;49m\u001b[33;43muser\u001b[39;49m\u001b[33;43m\"\u001b[39;49m\u001b[43m,\u001b[49m\u001b[43m \u001b[49m\u001b[43mon_unsupported_targets\u001b[49m\n\u001b[32m    450\u001b[39m \u001b[43m\u001b[49m\u001b[43m)\u001b[49m\n\u001b[32m    452\u001b[39m reco_hot = \u001b[38;5;28mself\u001b[39m._init_internal_reco_triplet()\n\u001b[32m    453\u001b[39m reco_warm = \u001b[38;5;28mself\u001b[39m._init_internal_reco_triplet()\n",
      "\u001b[36mFile \u001b[39m\u001b[32m~/.pyenv/versions/rec_System/lib/python3.11/site-packages/rectools/models/base.py:686\u001b[39m, in \u001b[36mModelBase._check_targets_are_valid\u001b[39m\u001b[34m(cls, hot_targets, warm_targets, cold_targets, entity, on_unsupported_targets)\u001b[39m\n\u001b[32m    684\u001b[39m         warnings.warn(explanation)\n\u001b[32m    685\u001b[39m     \u001b[38;5;28;01melif\u001b[39;00m on_unsupported_targets == \u001b[33m\"\u001b[39m\u001b[33mraise\u001b[39m\u001b[33m\"\u001b[39m:\n\u001b[32m--> \u001b[39m\u001b[32m686\u001b[39m         \u001b[38;5;28;01mraise\u001b[39;00m \u001b[38;5;167;01mValueError\u001b[39;00m(explanation)\n\u001b[32m    687\u001b[39m     warm_targets = np.asarray([])\n\u001b[32m    689\u001b[39m \u001b[38;5;28;01mif\u001b[39;00m cold_targets.size > \u001b[32m0\u001b[39m \u001b[38;5;129;01mand\u001b[39;00m \u001b[38;5;129;01mnot\u001b[39;00m \u001b[38;5;28mcls\u001b[39m.recommends_for_cold:\n",
      "\u001b[31mValueError\u001b[39m: \n                Model `<class 'rectools.models.implicit_knn.ImplicitItemKNNWrapperModel'>` doesn't support recommendations for warm and cold users,\n                but some of given users are warm: they are not in the interactions\n            "
     ]
    }
   ],
   "source": [
    "from rectools.models import ImplicitItemKNNWrapperModel\n",
    "from implicit.nearest_neighbours import TFIDFRecommender\n",
    "\n",
    "model = ImplicitItemKNNWrapperModel(\n",
    "        model=TFIDFRecommender(K=10)\n",
    "        )\n",
    "model.fit(dataset_train)\n",
    "recos = model.recommend(\n",
    "    users=dataset_test.interactions.df['user_id'].unique(),\n",
    "    dataset=dataset_train,\n",
    "    k=10,\n",
    "    filter_viewed=True,\n",
    ")"
   ]
  },
  {
   "cell_type": "code",
   "execution_count": 127,
   "id": "45bce163",
   "metadata": {},
   "outputs": [
    {
     "data": {
      "text/plain": [
       "0.31053149585342743"
      ]
     },
     "execution_count": 127,
     "metadata": {},
     "output_type": "execute_result"
    }
   ],
   "source": [
    "MAP(k=10).calc_per_user(recos, test_df[['user_id', 'item_id']]).values.mean()"
   ]
  },
  {
   "cell_type": "markdown",
   "id": "92ed8ef7",
   "metadata": {},
   "source": [
    "### LightFM"
   ]
  },
  {
   "cell_type": "code",
   "execution_count": 101,
   "id": "abdda11b",
   "metadata": {},
   "outputs": [
    {
     "ename": "TypeError",
     "evalue": "LightFMWrapperModel._fit() got an unexpected keyword argument 'epochs'",
     "output_type": "error",
     "traceback": [
      "\u001b[31m---------------------------------------------------------------------------\u001b[39m",
      "\u001b[31mTypeError\u001b[39m                                 Traceback (most recent call last)",
      "\u001b[36mCell\u001b[39m\u001b[36m \u001b[39m\u001b[32mIn[101]\u001b[39m\u001b[32m, line 14\u001b[39m\n\u001b[32m      2\u001b[39m \u001b[38;5;28;01mfrom\u001b[39;00m\u001b[38;5;250m \u001b[39m\u001b[34;01mlightfm\u001b[39;00m\u001b[38;5;250m \u001b[39m\u001b[38;5;28;01mimport\u001b[39;00m LightFM\n\u001b[32m      4\u001b[39m model = LightFMWrapperModel(\n\u001b[32m      5\u001b[39m         \u001b[38;5;66;03m# внутри модели указываем параметр no_components\u001b[39;00m\n\u001b[32m      6\u001b[39m         \u001b[38;5;66;03m# это размезность эмбеддингов, которые выучит модель\u001b[39;00m\n\u001b[32m   (...)\u001b[39m\u001b[32m     11\u001b[39m             )\n\u001b[32m     12\u001b[39m         )\n\u001b[32m---> \u001b[39m\u001b[32m14\u001b[39m \u001b[43mmodel\u001b[49m\u001b[43m.\u001b[49m\u001b[43mfit\u001b[49m\u001b[43m(\u001b[49m\u001b[43mdataset_train\u001b[49m\u001b[43m,\u001b[49m\u001b[43m \u001b[49m\u001b[43mepochs\u001b[49m\u001b[43m=\u001b[49m\u001b[32;43m10\u001b[39;49m\u001b[43m)\u001b[49m\n\u001b[32m     15\u001b[39m recos = model.recommend(\n\u001b[32m     16\u001b[39m     users=dataset_test.interactions.df[\u001b[33m'\u001b[39m\u001b[33muser_id\u001b[39m\u001b[33m'\u001b[39m].unique(),\n\u001b[32m     17\u001b[39m     dataset=dataset_train,\n\u001b[32m     18\u001b[39m     k=\u001b[32m10\u001b[39m,\n\u001b[32m     19\u001b[39m     filter_viewed=\u001b[38;5;28;01mTrue\u001b[39;00m,\n\u001b[32m     20\u001b[39m )\n",
      "\u001b[36mFile \u001b[39m\u001b[32m~/.pyenv/versions/rec_System/lib/python3.11/site-packages/rectools/models/base.py:326\u001b[39m, in \u001b[36mModelBase.fit\u001b[39m\u001b[34m(self, dataset, *args, **kwargs)\u001b[39m\n\u001b[32m    313\u001b[39m \u001b[38;5;28;01mdef\u001b[39;00m\u001b[38;5;250m \u001b[39m\u001b[34mfit\u001b[39m(\u001b[38;5;28mself\u001b[39m: T, dataset: Dataset, *args: tp.Any, **kwargs: tp.Any) -> T:\n\u001b[32m    314\u001b[39m \u001b[38;5;250m    \u001b[39m\u001b[33;03m\"\"\"\u001b[39;00m\n\u001b[32m    315\u001b[39m \u001b[33;03m    Fit model.\u001b[39;00m\n\u001b[32m    316\u001b[39m \n\u001b[32m   (...)\u001b[39m\u001b[32m    324\u001b[39m \u001b[33;03m    self\u001b[39;00m\n\u001b[32m    325\u001b[39m \u001b[33;03m    \"\"\"\u001b[39;00m\n\u001b[32m--> \u001b[39m\u001b[32m326\u001b[39m     \u001b[38;5;28;43mself\u001b[39;49m\u001b[43m.\u001b[49m\u001b[43m_fit\u001b[49m\u001b[43m(\u001b[49m\u001b[43mdataset\u001b[49m\u001b[43m,\u001b[49m\u001b[43m \u001b[49m\u001b[43m*\u001b[49m\u001b[43margs\u001b[49m\u001b[43m,\u001b[49m\u001b[43m \u001b[49m\u001b[43m*\u001b[49m\u001b[43m*\u001b[49m\u001b[43mkwargs\u001b[49m\u001b[43m)\u001b[49m\n\u001b[32m    327\u001b[39m     \u001b[38;5;28mself\u001b[39m.is_fitted = \u001b[38;5;28;01mTrue\u001b[39;00m\n\u001b[32m    328\u001b[39m     \u001b[38;5;28;01mreturn\u001b[39;00m \u001b[38;5;28mself\u001b[39m\n",
      "\u001b[31mTypeError\u001b[39m: LightFMWrapperModel._fit() got an unexpected keyword argument 'epochs'"
     ]
    }
   ],
   "source": [
    "from rectools.models import LightFMWrapperModel\n",
    "from lightfm import LightFM\n",
    "\n",
    "model = LightFMWrapperModel(\n",
    "        # внутри модели указываем параметр no_components\n",
    "        # это размезность эмбеддингов, которые выучит модель\n",
    "        model=LightFM(\n",
    "            no_components = 64,\n",
    "            loss='warp',\n",
    "            random_state=42\n",
    "            )\n",
    "        )\n",
    "\n",
    "model.fit(dataset_train, epochs=10)\n",
    "recos = model.recommend(\n",
    "    users=dataset_test.interactions.df['user_id'].unique(),\n",
    "    dataset=dataset_train,\n",
    "    k=10,\n",
    "    filter_viewed=True,\n",
    ")"
   ]
  },
  {
   "cell_type": "code",
   "execution_count": 99,
   "id": "5f69e5fd",
   "metadata": {},
   "outputs": [
    {
     "data": {
      "text/plain": [
       "0.007479841796071452"
      ]
     },
     "execution_count": 99,
     "metadata": {},
     "output_type": "execute_result"
    }
   ],
   "source": [
    "MAP(k=10).calc_per_user(recos, test_df[['user_id', 'item_id']]).values.mean()"
   ]
  },
  {
   "cell_type": "markdown",
   "id": "d5edc327",
   "metadata": {},
   "source": [
    "### DSSM - НУЖНЫ ФИЧИ"
   ]
  },
  {
   "cell_type": "code",
   "execution_count": 34,
   "id": "b0505437",
   "metadata": {},
   "outputs": [
    {
     "name": "stderr",
     "output_type": "stream",
     "text": [
      "Using default `ModelCheckpoint`. Consider installing `litmodels` package to enable `LitModelCheckpoint` for automatic upload to the Lightning model registry.\n",
      "GPU available: True (cuda), used: True\n",
      "TPU available: False, using: 0 TPU cores\n",
      "HPU available: False, using: 0 HPUs\n",
      "/home/aleksandr/.pyenv/versions/rec_System/lib/python3.11/site-packages/pytorch_lightning/trainer/connectors/logger_connector/logger_connector.py:76: Starting from v1.9.0, `tensorboardX` has been removed as a dependency of the `pytorch_lightning` package, due to potential conflicts with other packages in the ML ecosystem. For this reason, `logger=True` will use `CSVLogger` as the default logger, unless the `tensorboard` or `tensorboardX` packages are found. Please `pip install lightning[extra]` or one of them to enable TensorBoard support by default\n"
     ]
    },
    {
     "ename": "AttributeError",
     "evalue": "'Dataset' object has no attribute 'from_dataset'",
     "output_type": "error",
     "traceback": [
      "\u001b[31m---------------------------------------------------------------------------\u001b[39m",
      "\u001b[31mAttributeError\u001b[39m                            Traceback (most recent call last)",
      "\u001b[36mCell\u001b[39m\u001b[36m \u001b[39m\u001b[32mIn[34]\u001b[39m\u001b[32m, line 9\u001b[39m\n\u001b[32m      1\u001b[39m \u001b[38;5;28;01mfrom\u001b[39;00m\u001b[38;5;250m \u001b[39m\u001b[34;01mrectools\u001b[39;00m\u001b[34;01m.\u001b[39;00m\u001b[34;01mmodels\u001b[39;00m\u001b[38;5;250m \u001b[39m\u001b[38;5;28;01mimport\u001b[39;00m DSSMModel\n\u001b[32m      4\u001b[39m model = DSSMModel(dataset_train, \n\u001b[32m      5\u001b[39m                   max_epochs = \u001b[32m10\u001b[39m,\n\u001b[32m      6\u001b[39m                   batch_size = \u001b[32m64\u001b[39m\n\u001b[32m      7\u001b[39m                  )\n\u001b[32m----> \u001b[39m\u001b[32m9\u001b[39m \u001b[43mmodel\u001b[49m\u001b[43m.\u001b[49m\u001b[43mfit\u001b[49m\u001b[43m(\u001b[49m\u001b[43mdataset_train\u001b[49m\u001b[43m)\u001b[49m\n\u001b[32m     10\u001b[39m recos = model.recommend(\n\u001b[32m     11\u001b[39m     users=dataset_test.interactions.df[\u001b[33m'\u001b[39m\u001b[33muser_id\u001b[39m\u001b[33m'\u001b[39m].unique(),\n\u001b[32m     12\u001b[39m     dataset=dataset_train,\n\u001b[32m     13\u001b[39m     k=\u001b[32m10\u001b[39m,\n\u001b[32m     14\u001b[39m     filter_viewed=\u001b[38;5;28;01mTrue\u001b[39;00m,\n\u001b[32m     15\u001b[39m )\n",
      "\u001b[36mFile \u001b[39m\u001b[32m~/.pyenv/versions/rec_System/lib/python3.11/site-packages/rectools/models/base.py:326\u001b[39m, in \u001b[36mModelBase.fit\u001b[39m\u001b[34m(self, dataset, *args, **kwargs)\u001b[39m\n\u001b[32m    313\u001b[39m \u001b[38;5;28;01mdef\u001b[39;00m\u001b[38;5;250m \u001b[39m\u001b[34mfit\u001b[39m(\u001b[38;5;28mself\u001b[39m: T, dataset: Dataset, *args: tp.Any, **kwargs: tp.Any) -> T:\n\u001b[32m    314\u001b[39m \u001b[38;5;250m    \u001b[39m\u001b[33;03m\"\"\"\u001b[39;00m\n\u001b[32m    315\u001b[39m \u001b[33;03m    Fit model.\u001b[39;00m\n\u001b[32m    316\u001b[39m \n\u001b[32m   (...)\u001b[39m\u001b[32m    324\u001b[39m \u001b[33;03m    self\u001b[39;00m\n\u001b[32m    325\u001b[39m \u001b[33;03m    \"\"\"\u001b[39;00m\n\u001b[32m--> \u001b[39m\u001b[32m326\u001b[39m     \u001b[38;5;28;43mself\u001b[39;49m\u001b[43m.\u001b[49m\u001b[43m_fit\u001b[49m\u001b[43m(\u001b[49m\u001b[43mdataset\u001b[49m\u001b[43m,\u001b[49m\u001b[43m \u001b[49m\u001b[43m*\u001b[49m\u001b[43margs\u001b[49m\u001b[43m,\u001b[49m\u001b[43m \u001b[49m\u001b[43m*\u001b[49m\u001b[43m*\u001b[49m\u001b[43mkwargs\u001b[49m\u001b[43m)\u001b[49m\n\u001b[32m    327\u001b[39m     \u001b[38;5;28mself\u001b[39m.is_fitted = \u001b[38;5;28;01mTrue\u001b[39;00m\n\u001b[32m    328\u001b[39m     \u001b[38;5;28;01mreturn\u001b[39;00m \u001b[38;5;28mself\u001b[39m\n",
      "\u001b[36mFile \u001b[39m\u001b[32m~/.pyenv/versions/rec_System/lib/python3.11/site-packages/rectools/models/nn/dssm.py:348\u001b[39m, in \u001b[36mDSSMModel._fit\u001b[39m\u001b[34m(self, dataset, dataset_valid)\u001b[39m\n\u001b[32m    345\u001b[39m \u001b[38;5;28;01melse\u001b[39;00m:\n\u001b[32m    346\u001b[39m     \u001b[38;5;28mself\u001b[39m.model = deepcopy(\u001b[38;5;28mself\u001b[39m._model)\n\u001b[32m--> \u001b[39m\u001b[32m348\u001b[39m train_dataset = \u001b[38;5;28;43mself\u001b[39;49m\u001b[43m.\u001b[49m\u001b[43mtrain_dataset_type\u001b[49m\u001b[43m.\u001b[49m\u001b[43mfrom_dataset\u001b[49m(dataset)\n\u001b[32m    349\u001b[39m train_dataloader = DataLoader(\n\u001b[32m    350\u001b[39m     train_dataset,\n\u001b[32m    351\u001b[39m     batch_size=\u001b[38;5;28mself\u001b[39m.batch_size,\n\u001b[32m    352\u001b[39m     num_workers=\u001b[38;5;28mself\u001b[39m.dataloader_num_workers,\n\u001b[32m    353\u001b[39m     shuffle=\u001b[38;5;28;01mTrue\u001b[39;00m,\n\u001b[32m    354\u001b[39m )\n\u001b[32m    355\u001b[39m valid_dataloader = \u001b[38;5;28;01mNone\u001b[39;00m\n",
      "\u001b[31mAttributeError\u001b[39m: 'Dataset' object has no attribute 'from_dataset'"
     ]
    }
   ],
   "source": [
    "from rectools.models import DSSMModel\n",
    "\n",
    "\n",
    "model = DSSMModel(dataset_train, \n",
    "                  max_epochs = 10,\n",
    "                  batch_size = 64\n",
    "                 )\n",
    "\n",
    "model.fit(dataset_train)\n",
    "recos = model.recommend(\n",
    "    users=dataset_test.interactions.df['user_id'].unique(),\n",
    "    dataset=dataset_train,\n",
    "    k=10,\n",
    "    filter_viewed=True,\n",
    ")"
   ]
  },
  {
   "cell_type": "code",
   "execution_count": 11,
   "id": "11854937",
   "metadata": {},
   "outputs": [
    {
     "ename": "ImportError",
     "evalue": "cannot import name 'BERT4RecModel' from 'rectools.models.nn.transformers' (/home/aleksandr/.pyenv/versions/rec_System/lib/python3.11/site-packages/rectools/models/nn/transformers/__init__.py)",
     "output_type": "error",
     "traceback": [
      "\u001b[31m---------------------------------------------------------------------------\u001b[39m",
      "\u001b[31mImportError\u001b[39m                               Traceback (most recent call last)",
      "\u001b[36mCell\u001b[39m\u001b[36m \u001b[39m\u001b[32mIn[11]\u001b[39m\u001b[32m, line 1\u001b[39m\n\u001b[32m----> \u001b[39m\u001b[32m1\u001b[39m \u001b[38;5;28;01mfrom\u001b[39;00m\u001b[38;5;250m \u001b[39m\u001b[34;01mrectools\u001b[39;00m\u001b[34;01m.\u001b[39;00m\u001b[34;01mmodels\u001b[39;00m\u001b[34;01m.\u001b[39;00m\u001b[34;01mnn\u001b[39;00m\u001b[34;01m.\u001b[39;00m\u001b[34;01mtransformers\u001b[39;00m\u001b[38;5;250m \u001b[39m\u001b[38;5;28;01mimport\u001b[39;00m BERT4RecModel, SASRecModel\n",
      "\u001b[31mImportError\u001b[39m: cannot import name 'BERT4RecModel' from 'rectools.models.nn.transformers' (/home/aleksandr/.pyenv/versions/rec_System/lib/python3.11/site-packages/rectools/models/nn/transformers/__init__.py)"
     ]
    }
   ],
   "source": [
    "from rectools.models.nn.transformers import BERT4RecModel, SASRecModel"
   ]
  },
  {
   "cell_type": "code",
   "execution_count": 26,
   "id": "584da408",
   "metadata": {},
   "outputs": [
    {
     "name": "stderr",
     "output_type": "stream",
     "text": [
      "GPU available: True (cuda), used: True\n",
      "TPU available: False, using: 0 TPU cores\n",
      "HPU available: False, using: 0 HPUs\n",
      "/home/aleksandr/.pyenv/versions/rec_System/lib/python3.11/site-packages/rectools/dataset/identifiers.py:60: FutureWarning: unique with argument that is not not a Series, Index, ExtensionArray, or np.ndarray is deprecated and will raise in a future version.\n",
      "  unq_values = pd.unique(values)\n",
      "/home/aleksandr/.pyenv/versions/rec_System/lib/python3.11/site-packages/rectools/models/nn/item_net.py:141: UserWarning: \n",
      "            Ignoring `CatFeaturesItemNet` block because dataset item features are dense and\n",
      "            one-hot-encoded categorical features were not created when constructing dataset.\n",
      "            \n",
      "  warnings.warn(explanation)\n",
      "/home/aleksandr/.pyenv/versions/rec_System/lib/python3.11/site-packages/pydantic/main.py:463: UserWarning: Pydantic serializer warnings:\n",
      "  PydanticSerializationUnexpectedValue(Expected `str` - serialized value may not be as expected [input_value=('rectools.models.nn.item...net.CatFeaturesItemNet'), input_type=tuple])\n",
      "  return self.__pydantic_serializer__.to_python(\n",
      "/home/aleksandr/.pyenv/versions/rec_System/lib/python3.11/site-packages/pytorch_lightning/trainer/configuration_validator.py:70: You defined a `validation_step` but have no `val_dataloader`. Skipping val loop.\n",
      "LOCAL_RANK: 0 - CUDA_VISIBLE_DEVICES: [0]\n",
      "/home/aleksandr/.pyenv/versions/rec_System/lib/python3.11/site-packages/pytorch_lightning/trainer/connectors/data_connector.py:425: The 'train_dataloader' does not have many workers which may be a bottleneck. Consider increasing the value of the `num_workers` argument` to `num_workers=11` in the `DataLoader` to improve performance.\n",
      "`Trainer.fit` stopped: `max_epochs=3` reached.\n",
      "/home/aleksandr/.pyenv/versions/rec_System/lib/python3.11/site-packages/rectools/models/nn/transformers/data_preparator.py:345: UserWarning: 4 target users were considered cold because of missing known items\n",
      "  warnings.warn(explanation)\n"
     ]
    },
    {
     "ename": "ValueError",
     "evalue": "\n                Model `<class 'rectools.models.nn.transformers.bert4rec.BERT4RecModel'>` doesn't support recommendations for cold users,\n                but some of given users are cold: they are not in the `dataset.user_id_map`\n            ",
     "output_type": "error",
     "traceback": [
      "\u001b[31m---------------------------------------------------------------------------\u001b[39m",
      "\u001b[31mValueError\u001b[39m                                Traceback (most recent call last)",
      "\u001b[36mCell\u001b[39m\u001b[36m \u001b[39m\u001b[32mIn[26]\u001b[39m\u001b[32m, line 24\u001b[39m\n\u001b[32m     21\u001b[39m model.fit(dataset_train)\n\u001b[32m     23\u001b[39m \u001b[38;5;66;03m# Генерация рекомендаций\u001b[39;00m\n\u001b[32m---> \u001b[39m\u001b[32m24\u001b[39m recommendations = \u001b[43mmodel\u001b[49m\u001b[43m.\u001b[49m\u001b[43mrecommend\u001b[49m\u001b[43m(\u001b[49m\n\u001b[32m     25\u001b[39m \u001b[43m    \u001b[49m\u001b[43musers\u001b[49m\u001b[43m=\u001b[49m\u001b[43mdataset_test\u001b[49m\u001b[43m.\u001b[49m\u001b[43minteractions\u001b[49m\u001b[43m.\u001b[49m\u001b[43mdf\u001b[49m\u001b[43m[\u001b[49m\u001b[33;43m'\u001b[39;49m\u001b[33;43muser_id\u001b[39;49m\u001b[33;43m'\u001b[39;49m\u001b[43m]\u001b[49m\u001b[43m.\u001b[49m\u001b[43munique\u001b[49m\u001b[43m(\u001b[49m\u001b[43m)\u001b[49m\u001b[43m,\u001b[49m\n\u001b[32m     26\u001b[39m \u001b[43m    \u001b[49m\u001b[43mdataset\u001b[49m\u001b[43m=\u001b[49m\u001b[43mdataset_train\u001b[49m\u001b[43m,\u001b[49m\n\u001b[32m     27\u001b[39m \u001b[43m    \u001b[49m\u001b[43mk\u001b[49m\u001b[43m=\u001b[49m\u001b[32;43m10\u001b[39;49m\u001b[43m,\u001b[49m\n\u001b[32m     28\u001b[39m \u001b[43m    \u001b[49m\u001b[43mfilter_viewed\u001b[49m\u001b[43m=\u001b[49m\u001b[38;5;28;43;01mTrue\u001b[39;49;00m\n\u001b[32m     29\u001b[39m \u001b[43m)\u001b[49m\n",
      "\u001b[36mFile \u001b[39m\u001b[32m~/.pyenv/versions/rec_System/lib/python3.11/site-packages/rectools/models/base.py:448\u001b[39m, in \u001b[36mModelBase.recommend\u001b[39m\u001b[34m(self, users, dataset, k, filter_viewed, items_to_recommend, add_rank_col, on_unsupported_targets)\u001b[39m\n\u001b[32m    442\u001b[39m \u001b[38;5;66;03m# Here for hot and warm we get internal ids, for cold we keep external ids\u001b[39;00m\n\u001b[32m    443\u001b[39m hot_user_ids, warm_user_ids, cold_user_ids = \u001b[38;5;28mself\u001b[39m._split_targets_by_hot_warm_cold(\n\u001b[32m    444\u001b[39m     users,\n\u001b[32m    445\u001b[39m     dataset,\n\u001b[32m    446\u001b[39m     \u001b[33m\"\u001b[39m\u001b[33muser\u001b[39m\u001b[33m\"\u001b[39m,\n\u001b[32m    447\u001b[39m )\n\u001b[32m--> \u001b[39m\u001b[32m448\u001b[39m hot_user_ids, warm_user_ids, cold_user_ids = \u001b[38;5;28;43mself\u001b[39;49m\u001b[43m.\u001b[49m\u001b[43m_check_targets_are_valid\u001b[49m\u001b[43m(\u001b[49m\n\u001b[32m    449\u001b[39m \u001b[43m    \u001b[49m\u001b[43mhot_user_ids\u001b[49m\u001b[43m,\u001b[49m\u001b[43m \u001b[49m\u001b[43mwarm_user_ids\u001b[49m\u001b[43m,\u001b[49m\u001b[43m \u001b[49m\u001b[43mcold_user_ids\u001b[49m\u001b[43m,\u001b[49m\u001b[43m \u001b[49m\u001b[33;43m\"\u001b[39;49m\u001b[33;43muser\u001b[39;49m\u001b[33;43m\"\u001b[39;49m\u001b[43m,\u001b[49m\u001b[43m \u001b[49m\u001b[43mon_unsupported_targets\u001b[49m\n\u001b[32m    450\u001b[39m \u001b[43m\u001b[49m\u001b[43m)\u001b[49m\n\u001b[32m    452\u001b[39m reco_hot = \u001b[38;5;28mself\u001b[39m._init_internal_reco_triplet()\n\u001b[32m    453\u001b[39m reco_warm = \u001b[38;5;28mself\u001b[39m._init_internal_reco_triplet()\n",
      "\u001b[36mFile \u001b[39m\u001b[32m~/.pyenv/versions/rec_System/lib/python3.11/site-packages/rectools/models/base.py:697\u001b[39m, in \u001b[36mModelBase._check_targets_are_valid\u001b[39m\u001b[34m(cls, hot_targets, warm_targets, cold_targets, entity, on_unsupported_targets)\u001b[39m\n\u001b[32m    695\u001b[39m         warnings.warn(explanation)\n\u001b[32m    696\u001b[39m     \u001b[38;5;28;01melif\u001b[39;00m on_unsupported_targets == \u001b[33m\"\u001b[39m\u001b[33mraise\u001b[39m\u001b[33m\"\u001b[39m:\n\u001b[32m--> \u001b[39m\u001b[32m697\u001b[39m         \u001b[38;5;28;01mraise\u001b[39;00m \u001b[38;5;167;01mValueError\u001b[39;00m(explanation)\n\u001b[32m    698\u001b[39m     cold_targets = np.asarray([])\n\u001b[32m    699\u001b[39m \u001b[38;5;28;01mreturn\u001b[39;00m hot_targets, warm_targets, cold_targets\n",
      "\u001b[31mValueError\u001b[39m: \n                Model `<class 'rectools.models.nn.transformers.bert4rec.BERT4RecModel'>` doesn't support recommendations for cold users,\n                but some of given users are cold: they are not in the `dataset.user_id_map`\n            "
     ]
    }
   ],
   "source": [
    "from rectools.models.nn.transformers.bert4rec import BERT4RecModelConfig\n",
    "from rectools.models import BERT4RecModel, SASRecModel\n",
    "\n",
    "\n",
    "\n",
    "\n",
    "# config = BERT4RecModelConfig(\n",
    "#     history_len=50,\n",
    "#     max_epochs=5,\n",
    "#     batch_size=256,\n",
    "#     n_layers=2,\n",
    "#     n_heads=2,\n",
    "#     d_model=64,\n",
    "#     dropout=0.1,\n",
    "#     lr=1e-3,\n",
    "#     verbose=True\n",
    "# )\n",
    "\n",
    "model = BERT4RecModel()\n",
    "# Обучение модели\n",
    "model.fit(dataset_train)\n",
    "\n",
    "# Генерация рекомендаций\n",
    "recommendations = model.recommend(\n",
    "    users=dataset_test.interactions.df['user_id'].unique(),\n",
    "    dataset=dataset_train,\n",
    "    k=10,\n",
    "    filter_viewed=True\n",
    ")"
   ]
  },
  {
   "cell_type": "code",
   "execution_count": null,
   "id": "d79ab9fa",
   "metadata": {},
   "outputs": [],
   "source": []
  }
 ],
 "metadata": {
  "kernelspec": {
   "display_name": "rec_System",
   "language": "python",
   "name": "python3"
  },
  "language_info": {
   "codemirror_mode": {
    "name": "ipython",
    "version": 3
   },
   "file_extension": ".py",
   "mimetype": "text/x-python",
   "name": "python",
   "nbconvert_exporter": "python",
   "pygments_lexer": "ipython3",
   "version": "3.11.9"
  }
 },
 "nbformat": 4,
 "nbformat_minor": 5
}
